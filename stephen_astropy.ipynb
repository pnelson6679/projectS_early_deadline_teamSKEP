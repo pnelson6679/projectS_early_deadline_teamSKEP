{
 "cells": [
  {
   "cell_type": "code",
   "execution_count": 2,
   "metadata": {},
   "outputs": [],
   "source": [
    "import astropy as ast\n",
    "from astropy.coordinates import solar_system_ephemeris, EarthLocation\n",
    "from astropy.coordinates import get_body_barycentric, get_body, get_moon\n",
    "from collections import defaultdict\n",
    "import datetime\n",
    "from datetime import datetime\n",
    "import pandas as pd\n",
    "import numpy as np"
   ]
  },
  {
   "cell_type": "code",
   "execution_count": 6,
   "metadata": {},
   "outputs": [],
   "source": [
    "bodies = solar_system_ephemeris"
   ]
  },
  {
   "cell_type": "code",
   "execution_count": 9,
   "metadata": {},
   "outputs": [
    {
     "data": {
      "text/plain": [
       "<SkyCoord (GCRS: obstime=1998-08-08 02:45:37, obsgeoloc=(0., 0., 0.) m, obsgeovel=(0., 0., 0.) m / s): (ra, dec, distance) in (deg, deg, km)\n",
       "    (317.74470173, -14.75326813, 372805.14681261)>"
      ]
     },
     "execution_count": 9,
     "metadata": {},
     "output_type": "execute_result"
    }
   ],
   "source": [
    "# to get the position of the moon, we need to make a time object\n",
    "example_time = datetime(1998, 8, 8, 2, 45, 37)\n",
    "future_time = datetime(1999, 8, 8, 2, 45, 37)\n",
    "future_time = ast.time.Time(future_time)\n",
    "moon_time = ast.time.Time(example_time)\n",
    "\n",
    "#inpputing into the get_moon function to get the position\n",
    "moon = get_moon(moon_time)\n",
    "moon"
   ]
  },
  {
   "cell_type": "code",
   "execution_count": 10,
   "metadata": {},
   "outputs": [
    {
     "data": {
      "text/plain": [
       "['',\n",
       " '',\n",
       " '',\n",
       " 'ALMA',\n",
       " 'ATST',\n",
       " 'Anglo-Australian Observatory',\n",
       " 'Apache Point',\n",
       " 'Apache Point Observatory',\n",
       " 'Atacama Large Millimeter Array',\n",
       " 'BAO',\n",
       " 'BBSO',\n",
       " 'Beijing XingLong Observatory',\n",
       " 'Black Moshannon Observatory',\n",
       " 'CHARA',\n",
       " 'Canada-France-Hawaii Telescope',\n",
       " 'Catalina Observatory',\n",
       " 'Cerro Pachon',\n",
       " 'Cerro Paranal',\n",
       " 'Cerro Tololo',\n",
       " 'Cerro Tololo Interamerican Observatory',\n",
       " 'DCT',\n",
       " 'DKIST',\n",
       " 'Discovery Channel Telescope',\n",
       " 'Dominion Astrophysical Observatory',\n",
       " 'GBT',\n",
       " 'Gemini South',\n",
       " 'Green Bank Telescope',\n",
       " 'Hale Telescope',\n",
       " 'Haleakala Observatories',\n",
       " 'Happy Jack',\n",
       " 'IAO',\n",
       " 'JCMT',\n",
       " 'James Clerk Maxwell Telescope',\n",
       " 'Jansky Very Large Array',\n",
       " 'Keck Observatory',\n",
       " 'Kitt Peak',\n",
       " 'Kitt Peak National Observatory',\n",
       " 'La Silla Observatory',\n",
       " 'Large Binocular Telescope',\n",
       " 'Las Campanas Observatory',\n",
       " 'Lick Observatory',\n",
       " 'Lowell Observatory',\n",
       " 'MWA',\n",
       " 'Manastash Ridge Observatory',\n",
       " 'McDonald Observatory',\n",
       " 'Medicina',\n",
       " 'Medicina Dish',\n",
       " 'Michigan-Dartmouth-MIT Observatory',\n",
       " 'Mount Graham International Observatory',\n",
       " 'Mt Graham',\n",
       " 'Mt. Ekar 182 cm. Telescope',\n",
       " 'Mt. Stromlo Observatory',\n",
       " 'Multiple Mirror Telescope',\n",
       " 'Murchison Widefield Array',\n",
       " 'NOV',\n",
       " 'NST',\n",
       " 'National Observatory of Venezuela',\n",
       " 'Noto',\n",
       " 'Observatorio Astronomico Nacional, San Pedro Martir',\n",
       " 'Observatorio Astronomico Nacional, Tonantzintla',\n",
       " 'Palomar',\n",
       " 'Paranal Observatory',\n",
       " 'Roque de los Muchachos',\n",
       " 'SAAO',\n",
       " 'SALT',\n",
       " 'SPO',\n",
       " 'SRT',\n",
       " 'Sac Peak',\n",
       " 'Sacramento Peak',\n",
       " 'Siding Spring Observatory',\n",
       " 'Southern African Large Telescope',\n",
       " 'Subaru',\n",
       " 'Subaru Telescope',\n",
       " 'Sunspot',\n",
       " 'Sutherland',\n",
       " 'TUG',\n",
       " 'UKIRT',\n",
       " 'United Kingdom Infrared Telescope',\n",
       " 'Vainu Bappu Observatory',\n",
       " 'Very Large Array',\n",
       " 'W. M. Keck Observatory',\n",
       " 'Whipple',\n",
       " 'Whipple Observatory',\n",
       " 'aao',\n",
       " 'alma',\n",
       " 'apo',\n",
       " 'bbso',\n",
       " 'bmo',\n",
       " 'cfht',\n",
       " 'ctio',\n",
       " 'dao',\n",
       " 'dct',\n",
       " 'dkist',\n",
       " 'ekar',\n",
       " 'example_site',\n",
       " 'flwo',\n",
       " 'gbt',\n",
       " 'gemini_north',\n",
       " 'gemini_south',\n",
       " 'gemn',\n",
       " 'gems',\n",
       " 'greenwich',\n",
       " 'haleakala',\n",
       " 'iao',\n",
       " 'irtf',\n",
       " 'jcmt',\n",
       " 'keck',\n",
       " 'kpno',\n",
       " 'lapalma',\n",
       " 'lasilla',\n",
       " 'lbt',\n",
       " 'lco',\n",
       " 'lick',\n",
       " 'lowell',\n",
       " 'mcdonald',\n",
       " 'mdm',\n",
       " 'medicina',\n",
       " 'mmt',\n",
       " 'mro',\n",
       " 'mso',\n",
       " 'mtbigelow',\n",
       " 'mwa',\n",
       " 'mwo',\n",
       " 'noto',\n",
       " 'ohp',\n",
       " 'paranal',\n",
       " 'salt',\n",
       " 'sirene',\n",
       " 'spm',\n",
       " 'spo',\n",
       " 'srt',\n",
       " 'sso',\n",
       " 'tona',\n",
       " 'tug',\n",
       " 'ukirt',\n",
       " 'vbo',\n",
       " 'vla']"
      ]
     },
     "execution_count": 10,
     "metadata": {},
     "output_type": "execute_result"
    }
   ],
   "source": [
    "# listing different locations in database\n",
    "EarthLocation.get_site_names()"
   ]
  },
  {
   "cell_type": "code",
   "execution_count": 46,
   "metadata": {},
   "outputs": [
    {
     "data": {
      "text/plain": [
       "<SkyCoord (GCRS: obstime=1998-08-08 02:45:37, obsgeoloc=(-1658354.16677631, -5107436.05125564, 3435229.07626787) m, obsgeovel=(372.43016688, -120.89167903, 0.0508261) m / s): (ra, dec, distance) in (deg, deg, AU)\n",
       "    (113.69061447, 22.54184564, 2.46265131)>"
      ]
     },
     "execution_count": 46,
     "metadata": {},
     "output_type": "execute_result"
    }
   ],
   "source": [
    "# Trying other planets with a location\n",
    "location = EarthLocation.of_site('Sacramento Peak')\n",
    "\n",
    "\n",
    "with solar_system_ephemeris.set('builtin'):\n",
    "    mars = get_body('mars', moon_time, location)\n",
    "\n",
    "mars\n",
    "# this took a while to run ~15 seconds.. \n",
    "# may be a problem for generating data"
   ]
  },
  {
   "cell_type": "code",
   "execution_count": 47,
   "metadata": {},
   "outputs": [
    {
     "data": {
      "text/plain": [
       "'113.691 22.5418'"
      ]
     },
     "execution_count": 47,
     "metadata": {},
     "output_type": "execute_result"
    }
   ],
   "source": [
    "mars.to_string()"
   ]
  },
  {
   "cell_type": "code",
   "execution_count": 12,
   "metadata": {},
   "outputs": [
    {
     "data": {
      "text/plain": [
       "<CartesianRepresentation (x, y, z) in AU\n",
       "    (-0.20064669, 1.43092547, 0.66171799)>"
      ]
     },
     "execution_count": 12,
     "metadata": {},
     "output_type": "execute_result"
    }
   ],
   "source": [
    "# trying with cartesian coords\n",
    "# no need for earth location because it is not relative to earth\n",
    "with solar_system_ephemeris.set('builtin'):\n",
    "    mars_cart = get_body_barycentric('mars', moon_time)\n",
    "\n",
    "mars_cart"
   ]
  },
  {
   "cell_type": "code",
   "execution_count": 8,
   "metadata": {},
   "outputs": [
    {
     "data": {
      "text/plain": [
       "<SkyCoord (GCRS: obstime=1998-08-08 02:45:37, obsgeoloc=(-1658354.16677631, -5107436.05125564, 3435229.07626787) m, obsgeovel=(372.43016688, -120.89167903, 0.0508261) m / s): (ra, dec, distance) in (deg, deg, AU)\n",
       "    (113.69061447, 22.54184564, 2.46265131)>"
      ]
     },
     "execution_count": 8,
     "metadata": {},
     "output_type": "execute_result"
    }
   ],
   "source": [
    "# trying to understand the skycoord object\n",
    "mars"
   ]
  },
  {
   "cell_type": "code",
   "execution_count": 9,
   "metadata": {},
   "outputs": [
    {
     "data": {
      "text/plain": [
       "<CartesianRepresentation (x, y, z) in m / s\n",
       "    (372.43016688, -120.89167903, 0.0508261)>"
      ]
     },
     "execution_count": 9,
     "metadata": {},
     "output_type": "execute_result"
    }
   ],
   "source": [
    "mars.obsgeovel"
   ]
  },
  {
   "cell_type": "code",
   "execution_count": 10,
   "metadata": {},
   "outputs": [
    {
     "data": {
      "text/plain": [
       "dtype = object\n",
       "unit = deg,deg,AU\n",
       "class = SkyCoord\n",
       "n_bad = 0"
      ]
     },
     "execution_count": 10,
     "metadata": {},
     "output_type": "execute_result"
    }
   ],
   "source": [
    "mars.info"
   ]
  },
  {
   "cell_type": "code",
   "execution_count": 11,
   "metadata": {},
   "outputs": [
    {
     "data": {
      "text/plain": [
       "'113.691 22.5418'"
      ]
     },
     "execution_count": 11,
     "metadata": {},
     "output_type": "execute_result"
    }
   ],
   "source": [
    "mars.to_string('decimal')"
   ]
  },
  {
   "cell_type": "code",
   "execution_count": 48,
   "metadata": {},
   "outputs": [
    {
     "data": {
      "text/plain": [
       "'2.462651308514069 AU'"
      ]
     },
     "execution_count": 48,
     "metadata": {},
     "output_type": "execute_result"
    }
   ],
   "source": [
    "mars.distance.to_string()"
   ]
  },
  {
   "cell_type": "code",
   "execution_count": 13,
   "metadata": {},
   "outputs": [
    {
     "data": {
      "text/plain": [
       "astropy.coordinates.representation.SphericalRepresentation"
      ]
     },
     "execution_count": 13,
     "metadata": {},
     "output_type": "execute_result"
    }
   ],
   "source": [
    "mars.representation_type"
   ]
  },
  {
   "cell_type": "code",
   "execution_count": 14,
   "metadata": {},
   "outputs": [
    {
     "data": {
      "text/plain": [
       "()"
      ]
     },
     "execution_count": 14,
     "metadata": {},
     "output_type": "execute_result"
    }
   ],
   "source": [
    "mars.shape"
   ]
  },
  {
   "cell_type": "code",
   "execution_count": 15,
   "metadata": {},
   "outputs": [
    {
     "ename": "ValueError",
     "evalue": "SkyCoord requires velocity data to evolve the position.",
     "output_type": "error",
     "traceback": [
      "\u001b[0;31m-----------------------------------------------------------------------\u001b[0m",
      "\u001b[0;31mValueError\u001b[0m                            Traceback (most recent call last)",
      "\u001b[0;32m<ipython-input-15-1663312d7cd7>\u001b[0m in \u001b[0;36m<module>\u001b[0;34m\u001b[0m\n\u001b[1;32m      4\u001b[0m \u001b[0;31m# you must input one of them with a velocity.. don't know if this is going to be useful\u001b[0m\u001b[0;34m\u001b[0m\u001b[0;34m\u001b[0m\u001b[0;34m\u001b[0m\u001b[0m\n\u001b[1;32m      5\u001b[0m \u001b[0;34m\u001b[0m\u001b[0m\n\u001b[0;32m----> 6\u001b[0;31m \u001b[0mmars\u001b[0m\u001b[0;34m.\u001b[0m\u001b[0mapply_space_motion\u001b[0m\u001b[0;34m(\u001b[0m\u001b[0mnew_obstime\u001b[0m \u001b[0;34m=\u001b[0m \u001b[0mfuture_time\u001b[0m\u001b[0;34m)\u001b[0m\u001b[0;34m\u001b[0m\u001b[0;34m\u001b[0m\u001b[0m\n\u001b[0m",
      "\u001b[0;32m/usr/local/lib/python3.7/site-packages/astropy/coordinates/sky_coordinate.py\u001b[0m in \u001b[0;36mapply_space_motion\u001b[0;34m(self, new_obstime, dt)\u001b[0m\n\u001b[1;32m    666\u001b[0m         \u001b[0;31m# Validate that we have velocity info\u001b[0m\u001b[0;34m\u001b[0m\u001b[0;34m\u001b[0m\u001b[0;34m\u001b[0m\u001b[0m\n\u001b[1;32m    667\u001b[0m         \u001b[0;32mif\u001b[0m \u001b[0;34m's'\u001b[0m \u001b[0;32mnot\u001b[0m \u001b[0;32min\u001b[0m \u001b[0mself\u001b[0m\u001b[0;34m.\u001b[0m\u001b[0mframe\u001b[0m\u001b[0;34m.\u001b[0m\u001b[0mdata\u001b[0m\u001b[0;34m.\u001b[0m\u001b[0mdifferentials\u001b[0m\u001b[0;34m:\u001b[0m\u001b[0;34m\u001b[0m\u001b[0;34m\u001b[0m\u001b[0m\n\u001b[0;32m--> 668\u001b[0;31m             raise ValueError('SkyCoord requires velocity data to evolve the '\n\u001b[0m\u001b[1;32m    669\u001b[0m                              'position.')\n\u001b[1;32m    670\u001b[0m \u001b[0;34m\u001b[0m\u001b[0m\n",
      "\u001b[0;31mValueError\u001b[0m: SkyCoord requires velocity data to evolve the position."
     ]
    }
   ],
   "source": [
    "# this method computes thes new position of the object given two optional inputs: a new time or \n",
    "# time delta for the amount of time to evolve the postion of the source\n",
    "\n",
    "# you must input one of them with a velocity.. don't know if this is going to be useful\n",
    "\n",
    "mars.apply_space_motion(new_obstime = future_time)"
   ]
  },
  {
   "cell_type": "code",
   "execution_count": 16,
   "metadata": {},
   "outputs": [
    {
     "data": {
      "text/plain": [
       "<SkyCoord (GCRS: obstime=1998-08-08 02:45:37, obsgeoloc=(-1658354.16677631, -5107436.05125564, 3435229.07626787) m, obsgeovel=(372.43016688, -120.89167903, 0.0508261) m / s): (ra, dec) in deg\n",
       "    (60.38034812, -16.06708439)>"
      ]
     },
     "execution_count": 16,
     "metadata": {},
     "output_type": "execute_result"
    }
   ],
   "source": [
    "# Computes coordinates at the given offset from this coordinate.\n",
    "\n",
    "# Parameters\n",
    "# position_angle : position_angle of offset\n",
    "\n",
    "# separation : offset angular separation\n",
    "\n",
    "# Returns\n",
    "# newpoints : SkyCoord\n",
    "# The coordinates for the location that corresponds to offsetting by the given position_angle and separation.\n",
    "\n",
    "# TL;DR\n",
    "# given new angles returns new position\n",
    "\n",
    "mars.directional_offset_by(45, 24)"
   ]
  },
  {
   "cell_type": "code",
   "execution_count": 17,
   "metadata": {},
   "outputs": [
    {
     "data": {
      "text/plain": [
       "'Gemini'"
      ]
     },
     "execution_count": 17,
     "metadata": {},
     "output_type": "execute_result"
    }
   ],
   "source": [
    "# obvious: gets constellation that it's apart of\n",
    "mars.get_constellation()"
   ]
  },
  {
   "cell_type": "code",
   "execution_count": 18,
   "metadata": {},
   "outputs": [
    {
     "data": {
      "text/latex": [
       "$4.93335\\mathrm{rad}$"
      ],
      "text/plain": [
       "<Angle 4.93334805 rad>"
      ]
     },
     "execution_count": 18,
     "metadata": {},
     "output_type": "execute_result"
    }
   ],
   "source": [
    "# Computes the on-sky position angle (East of North) between this SkyCoord and another.\n",
    "\n",
    "mars.position_angle(moon)"
   ]
  },
  {
   "cell_type": "code",
   "execution_count": 19,
   "metadata": {},
   "outputs": [
    {
     "data": {
      "text/latex": [
       "$155^\\circ28{}^\\prime17.9169{}^{\\prime\\prime}$"
      ],
      "text/plain": [
       "<Angle 155.47164358 deg>"
      ]
     },
     "execution_count": 19,
     "metadata": {},
     "output_type": "execute_result"
    }
   ],
   "source": [
    "# Computes on-sky separation between this coord and another\n",
    "\n",
    "mars.separation(moon)"
   ]
  },
  {
   "cell_type": "code",
   "execution_count": 20,
   "metadata": {},
   "outputs": [
    {
     "data": {
      "text/latex": [
       "$2.4649113 \\; \\mathrm{AU}$"
      ],
      "text/plain": [
       "<Distance 2.46491134 AU>"
      ]
     },
     "execution_count": 20,
     "metadata": {},
     "output_type": "execute_result"
    }
   ],
   "source": [
    "mars.separation_3d(moon)"
   ]
  },
  {
   "cell_type": "code",
   "execution_count": 21,
   "metadata": {},
   "outputs": [
    {
     "data": {
      "text/plain": [
       "<SkyOffsetGCRS Frame (obstime=J2000.000, obsgeoloc=(0., 0., 0.) m, obsgeovel=(0., 0., 0.) m / s, rotation=0.0 deg, origin=<GCRS Coordinate (obstime=1998-08-08 02:45:37, obsgeoloc=(-1658354.16677631, -5107436.05125564, 3435229.07626787) m, obsgeovel=(372.43016688, -120.89167903, 0.0508261) m / s): (ra, dec, distance) in (deg, deg, AU)\n",
       "    (113.69061447, 22.54184564, 2.46265131)>)>"
      ]
     },
     "execution_count": 21,
     "metadata": {},
     "output_type": "execute_result"
    }
   ],
   "source": [
    "#Returns the sky offset frame with this SkyCoord at the origin.\n",
    "mars.skyoffset_frame()"
   ]
  },
  {
   "cell_type": "code",
   "execution_count": 22,
   "metadata": {},
   "outputs": [
    {
     "data": {
      "text/plain": [
       "'113.691 22.5418'"
      ]
     },
     "execution_count": 22,
     "metadata": {},
     "output_type": "execute_result"
    }
   ],
   "source": [
    "# Default \n",
    "mars.to_string('decimal')"
   ]
  },
  {
   "cell_type": "code",
   "execution_count": 23,
   "metadata": {},
   "outputs": [
    {
     "data": {
      "text/plain": [
       "'113d41m26.2121s 22d32m30.6443s'"
      ]
     },
     "execution_count": 23,
     "metadata": {},
     "output_type": "execute_result"
    }
   ],
   "source": [
    "mars.to_string('dms')"
   ]
  },
  {
   "cell_type": "code",
   "execution_count": 24,
   "metadata": {},
   "outputs": [
    {
     "data": {
      "text/plain": [
       "'07h34m45.7475s +22d32m30.6443s'"
      ]
     },
     "execution_count": 24,
     "metadata": {},
     "output_type": "execute_result"
    }
   ],
   "source": [
    "mars.to_string('hmsdms')"
   ]
  },
  {
   "cell_type": "markdown",
   "metadata": {},
   "source": [
    "### Generating Data From Celestial Bodies"
   ]
  },
  {
   "cell_type": "code",
   "execution_count": null,
   "metadata": {},
   "outputs": [
    {
     "name": "stdout",
     "output_type": "stream",
     "text": [
      "1850-01-01 00:00:00+00:00\n",
      "1850-01-02 00:00:00+00:00\n",
      "1850-01-03 00:00:00+00:00\n",
      "1850-01-04 00:00:00+00:00\n",
      "1850-01-05 00:00:00+00:00\n",
      "1850-01-06 00:00:00+00:00\n",
      "1850-01-07 00:00:00+00:00\n",
      "1850-01-08 00:00:00+00:00\n",
      "1850-01-09 00:00:00+00:00\n",
      "1850-01-10 00:00:00+00:00\n",
      "1850-01-11 00:00:00+00:00\n",
      "1850-01-12 00:00:00+00:00\n",
      "1850-01-13 00:00:00+00:00\n",
      "1850-01-14 00:00:00+00:00\n",
      "1850-01-15 00:00:00+00:00\n",
      "1850-01-16 00:00:00+00:00\n",
      "1850-01-17 00:00:00+00:00\n",
      "1850-01-18 00:00:00+00:00\n",
      "1850-01-19 00:00:00+00:00\n",
      "1850-01-20 00:00:00+00:00\n",
      "1850-01-21 00:00:00+00:00\n",
      "1850-01-22 00:00:00+00:00\n",
      "1850-01-23 00:00:00+00:00\n",
      "1850-01-24 00:00:00+00:00\n",
      "1850-01-25 00:00:00+00:00\n",
      "1850-01-26 00:00:00+00:00\n",
      "1850-01-27 00:00:00+00:00\n",
      "1850-01-28 00:00:00+00:00\n",
      "1850-01-29 00:00:00+00:00\n",
      "1850-01-30 00:00:00+00:00\n",
      "1850-01-31 00:00:00+00:00\n",
      "1850-02-01 00:00:00+00:00\n",
      "1850-02-02 00:00:00+00:00\n",
      "1850-02-03 00:00:00+00:00\n",
      "1850-02-04 00:00:00+00:00\n",
      "1850-02-05 00:00:00+00:00\n",
      "1850-02-06 00:00:00+00:00\n",
      "1850-02-07 00:00:00+00:00\n",
      "1850-02-08 00:00:00+00:00\n",
      "1850-02-09 00:00:00+00:00\n",
      "1850-02-10 00:00:00+00:00\n",
      "1850-02-11 00:00:00+00:00\n",
      "1850-02-12 00:00:00+00:00\n",
      "1850-02-13 00:00:00+00:00\n",
      "1850-02-14 00:00:00+00:00\n",
      "1850-02-15 00:00:00+00:00\n",
      "1850-02-16 00:00:00+00:00\n",
      "1850-02-17 00:00:00+00:00\n",
      "1850-02-18 00:00:00+00:00\n",
      "1850-02-19 00:00:00+00:00\n",
      "1850-02-20 00:00:00+00:00\n",
      "1850-02-21 00:00:00+00:00\n",
      "1850-02-22 00:00:00+00:00\n",
      "1850-02-23 00:00:00+00:00\n",
      "1850-02-24 00:00:00+00:00\n",
      "1850-02-25 00:00:00+00:00\n",
      "1850-02-26 00:00:00+00:00\n",
      "1850-02-27 00:00:00+00:00\n",
      "1850-02-28 00:00:00+00:00\n",
      "1850-03-01 00:00:00+00:00\n",
      "1850-03-02 00:00:00+00:00\n",
      "1850-03-03 00:00:00+00:00\n",
      "1850-03-04 00:00:00+00:00\n",
      "1850-03-05 00:00:00+00:00\n",
      "1850-03-06 00:00:00+00:00\n",
      "1850-03-07 00:00:00+00:00\n",
      "1850-03-08 00:00:00+00:00\n",
      "1850-03-09 00:00:00+00:00\n",
      "1850-03-10 00:00:00+00:00\n",
      "1850-03-11 00:00:00+00:00\n",
      "1850-03-12 00:00:00+00:00\n",
      "1850-03-13 00:00:00+00:00\n",
      "1850-03-14 00:00:00+00:00\n",
      "1850-03-15 00:00:00+00:00\n",
      "1850-03-16 00:00:00+00:00\n",
      "1850-03-17 00:00:00+00:00\n",
      "1850-03-18 00:00:00+00:00\n",
      "1850-03-19 00:00:00+00:00\n",
      "1850-03-20 00:00:00+00:00\n",
      "1850-03-21 00:00:00+00:00\n",
      "1850-03-22 00:00:00+00:00\n",
      "1850-03-23 00:00:00+00:00\n",
      "1850-03-24 00:00:00+00:00\n",
      "1850-03-25 00:00:00+00:00\n",
      "1850-03-26 00:00:00+00:00\n",
      "1850-03-27 00:00:00+00:00\n",
      "1850-03-28 00:00:00+00:00\n",
      "1850-03-29 00:00:00+00:00\n",
      "1850-03-30 00:00:00+00:00\n",
      "1850-03-31 00:00:00+00:00\n",
      "1850-04-01 00:00:00+00:00\n",
      "1850-04-02 00:00:00+00:00\n",
      "1850-04-03 00:00:00+00:00\n",
      "1850-04-04 00:00:00+00:00\n",
      "1850-04-05 00:00:00+00:00\n",
      "1850-04-06 00:00:00+00:00\n",
      "1850-04-07 00:00:00+00:00\n",
      "1850-04-08 00:00:00+00:00\n",
      "1850-04-09 00:00:00+00:00\n",
      "1850-04-10 00:00:00+00:00\n",
      "1850-04-11 00:00:00+00:00\n",
      "1850-04-12 00:00:00+00:00\n",
      "1850-04-13 00:00:00+00:00\n",
      "1850-04-14 00:00:00+00:00\n",
      "1850-04-15 00:00:00+00:00\n",
      "1850-04-16 00:00:00+00:00\n",
      "1850-04-17 00:00:00+00:00\n",
      "1850-04-18 00:00:00+00:00\n",
      "1850-04-19 00:00:00+00:00\n",
      "1850-04-20 00:00:00+00:00\n",
      "1850-04-21 00:00:00+00:00\n",
      "1850-04-22 00:00:00+00:00\n",
      "1850-04-23 00:00:00+00:00\n",
      "1850-04-24 00:00:00+00:00\n",
      "1850-04-25 00:00:00+00:00\n",
      "1850-04-26 00:00:00+00:00\n",
      "1850-04-27 00:00:00+00:00\n",
      "1850-04-28 00:00:00+00:00\n",
      "1850-04-29 00:00:00+00:00\n",
      "1850-04-30 00:00:00+00:00\n",
      "1850-05-01 00:00:00+00:00\n",
      "1850-05-02 00:00:00+00:00\n",
      "1850-05-03 00:00:00+00:00\n",
      "1850-05-04 00:00:00+00:00\n",
      "1850-05-05 00:00:00+00:00\n",
      "1850-05-06 00:00:00+00:00\n",
      "1850-05-07 00:00:00+00:00\n",
      "1850-05-08 00:00:00+00:00\n",
      "1850-05-09 00:00:00+00:00\n",
      "1850-05-10 00:00:00+00:00\n",
      "1850-05-11 00:00:00+00:00\n",
      "1850-05-12 00:00:00+00:00\n",
      "1850-05-13 00:00:00+00:00\n",
      "1850-05-14 00:00:00+00:00\n",
      "1850-05-15 00:00:00+00:00\n",
      "1850-05-16 00:00:00+00:00\n",
      "1850-05-17 00:00:00+00:00\n",
      "1850-05-18 00:00:00+00:00\n",
      "1850-05-19 00:00:00+00:00\n",
      "1850-05-20 00:00:00+00:00\n",
      "1850-05-21 00:00:00+00:00\n",
      "1850-05-22 00:00:00+00:00\n",
      "1850-05-23 00:00:00+00:00\n",
      "1850-05-24 00:00:00+00:00\n",
      "1850-05-25 00:00:00+00:00\n",
      "1850-05-26 00:00:00+00:00\n",
      "1850-05-27 00:00:00+00:00\n",
      "1850-05-28 00:00:00+00:00\n",
      "1850-05-29 00:00:00+00:00\n",
      "1850-05-30 00:00:00+00:00\n",
      "1850-05-31 00:00:00+00:00\n",
      "1850-06-01 00:00:00+00:00\n",
      "1850-06-02 00:00:00+00:00\n",
      "1850-06-03 00:00:00+00:00\n",
      "1850-06-04 00:00:00+00:00\n",
      "1850-06-05 00:00:00+00:00\n",
      "1850-06-06 00:00:00+00:00\n",
      "1850-06-07 00:00:00+00:00\n",
      "1850-06-08 00:00:00+00:00\n",
      "1850-06-09 00:00:00+00:00\n",
      "1850-06-10 00:00:00+00:00\n",
      "1850-06-11 00:00:00+00:00\n",
      "1850-06-12 00:00:00+00:00\n",
      "1850-06-13 00:00:00+00:00\n",
      "1850-06-14 00:00:00+00:00\n",
      "1850-06-15 00:00:00+00:00\n",
      "1850-06-16 00:00:00+00:00\n",
      "1850-06-17 00:00:00+00:00\n",
      "1850-06-18 00:00:00+00:00\n",
      "1850-06-19 00:00:00+00:00\n",
      "1850-06-20 00:00:00+00:00\n",
      "1850-06-21 00:00:00+00:00\n",
      "1850-06-22 00:00:00+00:00\n",
      "1850-06-23 00:00:00+00:00\n",
      "1850-06-24 00:00:00+00:00\n",
      "1850-06-25 00:00:00+00:00\n",
      "1850-06-26 00:00:00+00:00\n",
      "1850-06-27 00:00:00+00:00\n",
      "1850-06-28 00:00:00+00:00\n",
      "1850-06-29 00:00:00+00:00\n",
      "1850-06-30 00:00:00+00:00\n",
      "1850-07-01 00:00:00+00:00\n",
      "1850-07-02 00:00:00+00:00\n",
      "1850-07-03 00:00:00+00:00\n",
      "1850-07-04 00:00:00+00:00\n",
      "1850-07-05 00:00:00+00:00\n",
      "1850-07-06 00:00:00+00:00\n",
      "1850-07-07 00:00:00+00:00\n",
      "1850-07-08 00:00:00+00:00\n",
      "1850-07-09 00:00:00+00:00\n",
      "1850-07-10 00:00:00+00:00\n",
      "1850-07-11 00:00:00+00:00\n",
      "1850-07-12 00:00:00+00:00\n",
      "1850-07-13 00:00:00+00:00\n",
      "1850-07-14 00:00:00+00:00\n",
      "1850-07-15 00:00:00+00:00\n",
      "1850-07-16 00:00:00+00:00\n",
      "1850-07-17 00:00:00+00:00\n",
      "1850-07-18 00:00:00+00:00\n",
      "1850-07-19 00:00:00+00:00\n",
      "1850-07-20 00:00:00+00:00\n",
      "1850-07-21 00:00:00+00:00\n",
      "1850-07-22 00:00:00+00:00\n",
      "1850-07-23 00:00:00+00:00\n"
     ]
    }
   ],
   "source": [
    "def get_coordinates(body):\n",
    "    # Takes a Skycoord object, returns (theta, phi, r, x, y, z) in (deg, deg, AU, AU, AU, AU)\n",
    "    angles = [float(i) for i in body.to_string().split(' ')]\n",
    "    \n",
    "    # removing the units and converting to float\n",
    "    body_dist_string = body.distance.to_string()\n",
    "    r = float(body_dist_string[:-3])\n",
    "    units = body_dist_string[-2:]\n",
    "    if units == 'km':\n",
    "        r /= 1.496e+8\n",
    "    \n",
    "    phi = angles[0]\n",
    "    theta = angles[1]\n",
    "\n",
    "    c = body.cartesian\n",
    "    x = float(str(c.x)[:-3])\n",
    "    y = float(str(c.y)[:-3])\n",
    "    z = float(str(c.z)[:-3])\n",
    "\n",
    "    body_dist_string = body.distance.to_string()\n",
    "    units = body_dist_string[-2:]\n",
    "    if units == 'km':\n",
    "        x /= 1.496e+8\n",
    "        y /= 1.496e+8\n",
    "        z /= 1.496e+8\n",
    "    return (phi, theta, r, x, y, z)\n",
    "\n",
    "\n",
    "def add_noise(coords):\n",
    "    # Takes a tuple of (theta, phi, r, x, y, z) in (deg, deg, AU, AU, AU, AU)\n",
    "    # and returns a noisified version of the data\n",
    "    # Currently doesn't add noise to r\n",
    "    theta, phi, r, x, y, z = coords\n",
    "    return (theta + np.random.normal(0,1), phi + np.random.normal(0,1), r + np.random.normal(0, 0.1),\n",
    "            x + np.random.normal(0, 0.1), y + np.random.normal(0, 0.1), z + np.random.normal(0, 0.1))\n",
    "\n",
    "\n",
    "# creating datetime objects for every day at 12am for 150 years\n",
    "# we're trying to predict the locations at other times during the day\n",
    "# Note: changed to 2-day range for testing purposes. Change range to generate data\n",
    "times = pd.date_range(start=\"1850-01-01-00-00-00\", end=\"2000-01-01-00-00-00\")\n",
    "loc = EarthLocation.of_site('medicina')\n",
    "rows = defaultdict(list)\n",
    "BODY_NAMES = ['mercury', 'venus', 'mars', 'jupiter', 'saturn', 'moon', 'sun']\n",
    "for time in times:\n",
    "    print(time)\n",
    "    time = ast.time.Time(time.to_pydatetime())\n",
    "    bodies = []\n",
    "    \n",
    "    with solar_system_ephemeris.set('builtin'):\n",
    "        for body_name in BODY_NAMES:\n",
    "            bodies.append(get_body(body_name, time, loc))\n",
    "\n",
    "    rows['time'].append(time)\n",
    "    rows['location'].append(str(loc))\n",
    "    for body_name, body in zip(BODY_NAMES, bodies):\n",
    "        coordinates = add_noise(get_coordinates(body))\n",
    "        coord_strings = ['theta', 'phi', 'r', 'x', 'y', 'z']\n",
    "        for i in range(len(coord_strings)):\n",
    "            c = coordinates[i]\n",
    "            rows[body_name + '_' + coord_strings[i]].append(c)\n",
    "\n",
    "celestial_bodies = pd.DataFrame(rows)\n",
    "celestial_bodies.head()"
   ]
  },
  {
   "cell_type": "code",
   "execution_count": null,
   "metadata": {},
   "outputs": [],
   "source": []
  }
 ],
 "metadata": {
  "kernelspec": {
   "display_name": "Python 3",
   "language": "python",
   "name": "python3"
  },
  "language_info": {
   "codemirror_mode": {
    "name": "ipython",
    "version": 3
   },
   "file_extension": ".py",
   "mimetype": "text/x-python",
   "name": "python",
   "nbconvert_exporter": "python",
   "pygments_lexer": "ipython3",
   "version": "3.7.4"
  }
 },
 "nbformat": 4,
 "nbformat_minor": 4
}
