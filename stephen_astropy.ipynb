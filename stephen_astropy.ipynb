{
 "cells": [
  {
   "cell_type": "code",
   "execution_count": 1,
   "metadata": {},
   "outputs": [],
   "source": [
    "import astropy as ast\n",
    "from astropy.coordinates import solar_system_ephemeris, EarthLocation\n",
    "from astropy.coordinates import get_body_barycentric, get_body, get_moon\n",
    "\n",
    "import datetime\n",
    "from datetime import datetime\n",
    "import pandas as pd\n",
    "import numpy as np"
   ]
  },
  {
   "cell_type": "code",
   "execution_count": 2,
   "metadata": {},
   "outputs": [],
   "source": [
    "bodies = solar_system_ephemeris"
   ]
  },
  {
   "cell_type": "code",
   "execution_count": 3,
   "metadata": {},
   "outputs": [
    {
     "data": {
      "text/plain": [
       "('earth',\n",
       " 'sun',\n",
       " 'moon',\n",
       " 'mercury',\n",
       " 'venus',\n",
       " 'earth-moon-barycenter',\n",
       " 'mars',\n",
       " 'jupiter',\n",
       " 'saturn',\n",
       " 'uranus',\n",
       " 'neptune')"
      ]
     },
     "execution_count": 3,
     "metadata": {},
     "output_type": "execute_result"
    }
   ],
   "source": [
    "bodies.bodies"
   ]
  },
  {
   "cell_type": "code",
   "execution_count": 4,
   "metadata": {},
   "outputs": [
    {
     "data": {
      "text/plain": [
       "<SkyCoord (GCRS: obstime=1998-08-08 02:45:37, obsgeoloc=(0., 0., 0.) m, obsgeovel=(0., 0., 0.) m / s): (ra, dec, distance) in (deg, deg, km)\n",
       "    (317.74470173, -14.75326813, 372805.14681261)>"
      ]
     },
     "execution_count": 4,
     "metadata": {},
     "output_type": "execute_result"
    }
   ],
   "source": [
    "# to get the position of the moon, we need to make a time object\n",
    "example_time = datetime(1998, 8, 8, 2, 45, 37)\n",
    "future_time = datetime(1999, 8, 8, 2, 45, 37)\n",
    "future_time = ast.time.Time(future_time)\n",
    "moon_time = ast.time.Time(example_time)\n",
    "\n",
    "#inpputing into the get_moon function to get the position\n",
    "moon = get_moon(moon_time)\n",
    "moon"
   ]
  },
  {
   "cell_type": "code",
   "execution_count": 5,
   "metadata": {},
   "outputs": [
    {
     "data": {
      "text/plain": [
       "['',\n",
       " '',\n",
       " '',\n",
       " 'ALMA',\n",
       " 'ATST',\n",
       " 'Anglo-Australian Observatory',\n",
       " 'Apache Point',\n",
       " 'Apache Point Observatory',\n",
       " 'Atacama Large Millimeter Array',\n",
       " 'BAO',\n",
       " 'BBSO',\n",
       " 'Beijing XingLong Observatory',\n",
       " 'Black Moshannon Observatory',\n",
       " 'CHARA',\n",
       " 'Canada-France-Hawaii Telescope',\n",
       " 'Catalina Observatory',\n",
       " 'Cerro Pachon',\n",
       " 'Cerro Paranal',\n",
       " 'Cerro Tololo',\n",
       " 'Cerro Tololo Interamerican Observatory',\n",
       " 'DCT',\n",
       " 'DKIST',\n",
       " 'Discovery Channel Telescope',\n",
       " 'Dominion Astrophysical Observatory',\n",
       " 'GBT',\n",
       " 'Gemini South',\n",
       " 'Green Bank Telescope',\n",
       " 'Hale Telescope',\n",
       " 'Haleakala Observatories',\n",
       " 'Happy Jack',\n",
       " 'IAO',\n",
       " 'JCMT',\n",
       " 'James Clerk Maxwell Telescope',\n",
       " 'Jansky Very Large Array',\n",
       " 'Keck Observatory',\n",
       " 'Kitt Peak',\n",
       " 'Kitt Peak National Observatory',\n",
       " 'La Silla Observatory',\n",
       " 'Large Binocular Telescope',\n",
       " 'Las Campanas Observatory',\n",
       " 'Lick Observatory',\n",
       " 'Lowell Observatory',\n",
       " 'MWA',\n",
       " 'Manastash Ridge Observatory',\n",
       " 'McDonald Observatory',\n",
       " 'Medicina',\n",
       " 'Medicina Dish',\n",
       " 'Michigan-Dartmouth-MIT Observatory',\n",
       " 'Mount Graham International Observatory',\n",
       " 'Mt Graham',\n",
       " 'Mt. Ekar 182 cm. Telescope',\n",
       " 'Mt. Stromlo Observatory',\n",
       " 'Multiple Mirror Telescope',\n",
       " 'Murchison Widefield Array',\n",
       " 'NOV',\n",
       " 'NST',\n",
       " 'National Observatory of Venezuela',\n",
       " 'Noto',\n",
       " 'Observatorio Astronomico Nacional, San Pedro Martir',\n",
       " 'Observatorio Astronomico Nacional, Tonantzintla',\n",
       " 'Palomar',\n",
       " 'Paranal Observatory',\n",
       " 'Roque de los Muchachos',\n",
       " 'SAAO',\n",
       " 'SALT',\n",
       " 'SPO',\n",
       " 'SRT',\n",
       " 'Sac Peak',\n",
       " 'Sacramento Peak',\n",
       " 'Siding Spring Observatory',\n",
       " 'Southern African Large Telescope',\n",
       " 'Subaru',\n",
       " 'Subaru Telescope',\n",
       " 'Sunspot',\n",
       " 'Sutherland',\n",
       " 'TUG',\n",
       " 'UKIRT',\n",
       " 'United Kingdom Infrared Telescope',\n",
       " 'Vainu Bappu Observatory',\n",
       " 'Very Large Array',\n",
       " 'W. M. Keck Observatory',\n",
       " 'Whipple',\n",
       " 'Whipple Observatory',\n",
       " 'aao',\n",
       " 'alma',\n",
       " 'apo',\n",
       " 'bbso',\n",
       " 'bmo',\n",
       " 'cfht',\n",
       " 'ctio',\n",
       " 'dao',\n",
       " 'dct',\n",
       " 'dkist',\n",
       " 'ekar',\n",
       " 'example_site',\n",
       " 'flwo',\n",
       " 'gbt',\n",
       " 'gemini_north',\n",
       " 'gemini_south',\n",
       " 'gemn',\n",
       " 'gems',\n",
       " 'greenwich',\n",
       " 'haleakala',\n",
       " 'iao',\n",
       " 'irtf',\n",
       " 'jcmt',\n",
       " 'keck',\n",
       " 'kpno',\n",
       " 'lapalma',\n",
       " 'lasilla',\n",
       " 'lbt',\n",
       " 'lco',\n",
       " 'lick',\n",
       " 'lowell',\n",
       " 'mcdonald',\n",
       " 'mdm',\n",
       " 'medicina',\n",
       " 'mmt',\n",
       " 'mro',\n",
       " 'mso',\n",
       " 'mtbigelow',\n",
       " 'mwa',\n",
       " 'mwo',\n",
       " 'noto',\n",
       " 'ohp',\n",
       " 'paranal',\n",
       " 'salt',\n",
       " 'sirene',\n",
       " 'spm',\n",
       " 'spo',\n",
       " 'srt',\n",
       " 'sso',\n",
       " 'tona',\n",
       " 'tug',\n",
       " 'ukirt',\n",
       " 'vbo',\n",
       " 'vla']"
      ]
     },
     "execution_count": 5,
     "metadata": {},
     "output_type": "execute_result"
    }
   ],
   "source": [
    "# listing different locations in database\n",
    "EarthLocation.get_site_names()"
   ]
  },
  {
   "cell_type": "code",
   "execution_count": 6,
   "metadata": {},
   "outputs": [
    {
     "data": {
      "text/plain": [
       "<SkyCoord (GCRS: obstime=1998-08-08 02:45:37, obsgeoloc=(-1658354.16677631, -5107436.05125564, 3435229.07626787) m, obsgeovel=(372.43016688, -120.89167903, 0.0508261) m / s): (ra, dec, distance) in (deg, deg, AU)\n",
       "    (113.69061447, 22.54184564, 2.46265131)>"
      ]
     },
     "execution_count": 6,
     "metadata": {},
     "output_type": "execute_result"
    }
   ],
   "source": [
    "# Trying other planets with a location\n",
    "location = EarthLocation.of_site('Sacramento Peak')\n",
    "\n",
    "\n",
    "with solar_system_ephemeris.set('builtin'):\n",
    "    mars = get_body('mars', moon_time, location)\n",
    "\n",
    "mars\n",
    "# this took a while to run ~15 seconds.. \n",
    "# may be a problem for generating data"
   ]
  },
  {
   "cell_type": "code",
   "execution_count": 7,
   "metadata": {},
   "outputs": [
    {
     "data": {
      "text/plain": [
       "<CartesianRepresentation (x, y, z) in AU\n",
       "    (-0.20064669, 1.43092547, 0.66171799)>"
      ]
     },
     "execution_count": 7,
     "metadata": {},
     "output_type": "execute_result"
    }
   ],
   "source": [
    "# trying with cartesian coords\n",
    "# no need for earth location because it is not relative to earth\n",
    "with solar_system_ephemeris.set('builtin'):\n",
    "    mars_cart = get_body_barycentric('mars', moon_time)\n",
    "\n",
    "mars_cart"
   ]
  },
  {
   "cell_type": "code",
   "execution_count": 8,
   "metadata": {},
   "outputs": [
    {
     "data": {
      "text/plain": [
       "<SkyCoord (GCRS: obstime=1998-08-08 02:45:37, obsgeoloc=(-1658354.16677631, -5107436.05125564, 3435229.07626787) m, obsgeovel=(372.43016688, -120.89167903, 0.0508261) m / s): (ra, dec, distance) in (deg, deg, AU)\n",
       "    (113.69061447, 22.54184564, 2.46265131)>"
      ]
     },
     "execution_count": 8,
     "metadata": {},
     "output_type": "execute_result"
    }
   ],
   "source": [
    "# trying to understand the skycoord object\n",
    "mars"
   ]
  },
  {
   "cell_type": "code",
   "execution_count": 9,
   "metadata": {},
   "outputs": [
    {
     "data": {
      "text/plain": [
       "<CartesianRepresentation (x, y, z) in m / s\n",
       "    (372.43016688, -120.89167903, 0.0508261)>"
      ]
     },
     "execution_count": 9,
     "metadata": {},
     "output_type": "execute_result"
    }
   ],
   "source": [
    "mars.obsgeovel"
   ]
  },
  {
   "cell_type": "code",
   "execution_count": 10,
   "metadata": {},
   "outputs": [
    {
     "data": {
      "text/plain": [
       "dtype = object\n",
       "unit = deg,deg,AU\n",
       "class = SkyCoord\n",
       "n_bad = 0"
      ]
     },
     "execution_count": 10,
     "metadata": {},
     "output_type": "execute_result"
    }
   ],
   "source": [
    "mars.info"
   ]
  },
  {
   "cell_type": "code",
   "execution_count": 11,
   "metadata": {},
   "outputs": [
    {
     "data": {
      "text/plain": [
       "'113.691 22.5418'"
      ]
     },
     "execution_count": 11,
     "metadata": {},
     "output_type": "execute_result"
    }
   ],
   "source": [
    "mars.to_string('decimal')"
   ]
  },
  {
   "cell_type": "code",
   "execution_count": 12,
   "metadata": {},
   "outputs": [
    {
     "data": {
      "text/plain": [
       "'2.462651308514069 AU'"
      ]
     },
     "execution_count": 12,
     "metadata": {},
     "output_type": "execute_result"
    }
   ],
   "source": [
    "mars.distance.to_string()"
   ]
  },
  {
   "cell_type": "code",
   "execution_count": 13,
   "metadata": {},
   "outputs": [
    {
     "data": {
      "text/plain": [
       "astropy.coordinates.representation.SphericalRepresentation"
      ]
     },
     "execution_count": 13,
     "metadata": {},
     "output_type": "execute_result"
    }
   ],
   "source": [
    "mars.representation_type"
   ]
  },
  {
   "cell_type": "code",
   "execution_count": 14,
   "metadata": {},
   "outputs": [
    {
     "data": {
      "text/plain": [
       "()"
      ]
     },
     "execution_count": 14,
     "metadata": {},
     "output_type": "execute_result"
    }
   ],
   "source": [
    "mars.shape"
   ]
  },
  {
   "cell_type": "code",
   "execution_count": 15,
   "metadata": {},
   "outputs": [
    {
     "ename": "ValueError",
     "evalue": "SkyCoord requires velocity data to evolve the position.",
     "output_type": "error",
     "traceback": [
      "\u001b[0;31m-----------------------------------------------------------------------\u001b[0m",
      "\u001b[0;31mValueError\u001b[0m                            Traceback (most recent call last)",
      "\u001b[0;32m<ipython-input-15-1663312d7cd7>\u001b[0m in \u001b[0;36m<module>\u001b[0;34m\u001b[0m\n\u001b[1;32m      4\u001b[0m \u001b[0;31m# you must input one of them with a velocity.. don't know if this is going to be useful\u001b[0m\u001b[0;34m\u001b[0m\u001b[0;34m\u001b[0m\u001b[0;34m\u001b[0m\u001b[0m\n\u001b[1;32m      5\u001b[0m \u001b[0;34m\u001b[0m\u001b[0m\n\u001b[0;32m----> 6\u001b[0;31m \u001b[0mmars\u001b[0m\u001b[0;34m.\u001b[0m\u001b[0mapply_space_motion\u001b[0m\u001b[0;34m(\u001b[0m\u001b[0mnew_obstime\u001b[0m \u001b[0;34m=\u001b[0m \u001b[0mfuture_time\u001b[0m\u001b[0;34m)\u001b[0m\u001b[0;34m\u001b[0m\u001b[0;34m\u001b[0m\u001b[0m\n\u001b[0m",
      "\u001b[0;32m/usr/local/lib/python3.7/site-packages/astropy/coordinates/sky_coordinate.py\u001b[0m in \u001b[0;36mapply_space_motion\u001b[0;34m(self, new_obstime, dt)\u001b[0m\n\u001b[1;32m    666\u001b[0m         \u001b[0;31m# Validate that we have velocity info\u001b[0m\u001b[0;34m\u001b[0m\u001b[0;34m\u001b[0m\u001b[0;34m\u001b[0m\u001b[0m\n\u001b[1;32m    667\u001b[0m         \u001b[0;32mif\u001b[0m \u001b[0;34m's'\u001b[0m \u001b[0;32mnot\u001b[0m \u001b[0;32min\u001b[0m \u001b[0mself\u001b[0m\u001b[0;34m.\u001b[0m\u001b[0mframe\u001b[0m\u001b[0;34m.\u001b[0m\u001b[0mdata\u001b[0m\u001b[0;34m.\u001b[0m\u001b[0mdifferentials\u001b[0m\u001b[0;34m:\u001b[0m\u001b[0;34m\u001b[0m\u001b[0;34m\u001b[0m\u001b[0m\n\u001b[0;32m--> 668\u001b[0;31m             raise ValueError('SkyCoord requires velocity data to evolve the '\n\u001b[0m\u001b[1;32m    669\u001b[0m                              'position.')\n\u001b[1;32m    670\u001b[0m \u001b[0;34m\u001b[0m\u001b[0m\n",
      "\u001b[0;31mValueError\u001b[0m: SkyCoord requires velocity data to evolve the position."
     ]
    }
   ],
   "source": [
    "# this method computes thes new position of the object given two optional inputs: a new time or \n",
    "# time delta for the amount of time to evolve the postion of the source\n",
    "\n",
    "# you must input one of them with a velocity.. don't know if this is going to be useful\n",
    "\n",
    "mars.apply_space_motion(new_obstime = future_time)"
   ]
  },
  {
   "cell_type": "code",
   "execution_count": 16,
   "metadata": {},
   "outputs": [
    {
     "data": {
      "text/plain": [
       "<SkyCoord (GCRS: obstime=1998-08-08 02:45:37, obsgeoloc=(-1658354.16677631, -5107436.05125564, 3435229.07626787) m, obsgeovel=(372.43016688, -120.89167903, 0.0508261) m / s): (ra, dec) in deg\n",
       "    (60.38034812, -16.06708439)>"
      ]
     },
     "execution_count": 16,
     "metadata": {},
     "output_type": "execute_result"
    }
   ],
   "source": [
    "# Computes coordinates at the given offset from this coordinate.\n",
    "\n",
    "# Parameters\n",
    "# position_angle : position_angle of offset\n",
    "\n",
    "# separation : offset angular separation\n",
    "\n",
    "# Returns\n",
    "# newpoints : SkyCoord\n",
    "# The coordinates for the location that corresponds to offsetting by the given position_angle and separation.\n",
    "\n",
    "# TL;DR\n",
    "# given new angles returns new position\n",
    "\n",
    "mars.directional_offset_by(45, 24)"
   ]
  },
  {
   "cell_type": "code",
   "execution_count": 17,
   "metadata": {},
   "outputs": [
    {
     "data": {
      "text/plain": [
       "'Gemini'"
      ]
     },
     "execution_count": 17,
     "metadata": {},
     "output_type": "execute_result"
    }
   ],
   "source": [
    "# obvious: gets constellation that it's apart of\n",
    "mars.get_constellation()"
   ]
  },
  {
   "cell_type": "code",
   "execution_count": 18,
   "metadata": {},
   "outputs": [
    {
     "data": {
      "text/latex": [
       "$4.93335\\mathrm{rad}$"
      ],
      "text/plain": [
       "<Angle 4.93334805 rad>"
      ]
     },
     "execution_count": 18,
     "metadata": {},
     "output_type": "execute_result"
    }
   ],
   "source": [
    "# Computes the on-sky position angle (East of North) between this SkyCoord and another.\n",
    "\n",
    "mars.position_angle(moon)"
   ]
  },
  {
   "cell_type": "code",
   "execution_count": 19,
   "metadata": {},
   "outputs": [
    {
     "data": {
      "text/latex": [
       "$155^\\circ28{}^\\prime17.9169{}^{\\prime\\prime}$"
      ],
      "text/plain": [
       "<Angle 155.47164358 deg>"
      ]
     },
     "execution_count": 19,
     "metadata": {},
     "output_type": "execute_result"
    }
   ],
   "source": [
    "# Computes on-sky separation between this coord and another\n",
    "\n",
    "mars.separation(moon)"
   ]
  },
  {
   "cell_type": "code",
   "execution_count": 20,
   "metadata": {},
   "outputs": [
    {
     "data": {
      "text/latex": [
       "$2.4649113 \\; \\mathrm{AU}$"
      ],
      "text/plain": [
       "<Distance 2.46491134 AU>"
      ]
     },
     "execution_count": 20,
     "metadata": {},
     "output_type": "execute_result"
    }
   ],
   "source": [
    "mars.separation_3d(moon)"
   ]
  },
  {
   "cell_type": "code",
   "execution_count": 21,
   "metadata": {},
   "outputs": [
    {
     "data": {
      "text/plain": [
       "<SkyOffsetGCRS Frame (obstime=J2000.000, obsgeoloc=(0., 0., 0.) m, obsgeovel=(0., 0., 0.) m / s, rotation=0.0 deg, origin=<GCRS Coordinate (obstime=1998-08-08 02:45:37, obsgeoloc=(-1658354.16677631, -5107436.05125564, 3435229.07626787) m, obsgeovel=(372.43016688, -120.89167903, 0.0508261) m / s): (ra, dec, distance) in (deg, deg, AU)\n",
       "    (113.69061447, 22.54184564, 2.46265131)>)>"
      ]
     },
     "execution_count": 21,
     "metadata": {},
     "output_type": "execute_result"
    }
   ],
   "source": [
    "#Returns the sky offset frame with this SkyCoord at the origin.\n",
    "mars.skyoffset_frame()"
   ]
  },
  {
   "cell_type": "code",
   "execution_count": 22,
   "metadata": {},
   "outputs": [
    {
     "data": {
      "text/plain": [
       "'113.691 22.5418'"
      ]
     },
     "execution_count": 22,
     "metadata": {},
     "output_type": "execute_result"
    }
   ],
   "source": [
    "# Default \n",
    "mars.to_string('decimal')"
   ]
  },
  {
   "cell_type": "code",
   "execution_count": 23,
   "metadata": {},
   "outputs": [
    {
     "data": {
      "text/plain": [
       "'113d41m26.2121s 22d32m30.6443s'"
      ]
     },
     "execution_count": 23,
     "metadata": {},
     "output_type": "execute_result"
    }
   ],
   "source": [
    "mars.to_string('dms')"
   ]
  },
  {
   "cell_type": "code",
   "execution_count": 24,
   "metadata": {},
   "outputs": [
    {
     "data": {
      "text/plain": [
       "'07h34m45.7475s +22d32m30.6443s'"
      ]
     },
     "execution_count": 24,
     "metadata": {},
     "output_type": "execute_result"
    }
   ],
   "source": [
    "mars.to_string('hmsdms')"
   ]
  },
  {
   "cell_type": "markdown",
   "metadata": {},
   "source": [
    "### Generating Data From Planets \n",
    "Mercury, Venus, Mars, Jupiter and Saturn"
   ]
  },
  {
   "cell_type": "code",
   "execution_count": 27,
   "metadata": {},
   "outputs": [
    {
     "data": {
      "text/html": [
       "<div>\n",
       "<style scoped>\n",
       "    .dataframe tbody tr th:only-of-type {\n",
       "        vertical-align: middle;\n",
       "    }\n",
       "\n",
       "    .dataframe tbody tr th {\n",
       "        vertical-align: top;\n",
       "    }\n",
       "\n",
       "    .dataframe thead th {\n",
       "        text-align: right;\n",
       "    }\n",
       "</style>\n",
       "<table border=\"1\" class=\"dataframe\">\n",
       "  <thead>\n",
       "    <tr style=\"text-align: right;\">\n",
       "      <th></th>\n",
       "      <th>time</th>\n",
       "      <th>location</th>\n",
       "      <th>spherical_coord</th>\n",
       "      <th>mercury</th>\n",
       "      <th>venus</th>\n",
       "      <th>mars</th>\n",
       "      <th>jupiter</th>\n",
       "      <th>saturn</th>\n",
       "      <th>moon</th>\n",
       "      <th>sun</th>\n",
       "    </tr>\n",
       "  </thead>\n",
       "  <tbody>\n",
       "    <tr>\n",
       "      <td>0</td>\n",
       "      <td>2020-01-01 00:00:00</td>\n",
       "      <td>(4461340.48313723, 919588.07009129, 4449530.22...</td>\n",
       "      <td>theta</td>\n",
       "      <td>276.044073</td>\n",
       "      <td>316.336778</td>\n",
       "      <td>236.147191</td>\n",
       "      <td>278.063313</td>\n",
       "      <td>293.199509</td>\n",
       "      <td>348.945687</td>\n",
       "      <td>280.086266</td>\n",
       "    </tr>\n",
       "    <tr>\n",
       "      <td>1</td>\n",
       "      <td>2020-01-01 00:00:00</td>\n",
       "      <td>(4461340.48313723, 919588.07009129, 4449530.22...</td>\n",
       "      <td>phi</td>\n",
       "      <td>-26.435921</td>\n",
       "      <td>-19.465005</td>\n",
       "      <td>-19.181823</td>\n",
       "      <td>-23.343231</td>\n",
       "      <td>-22.448143</td>\n",
       "      <td>-11.553153</td>\n",
       "      <td>-23.812709</td>\n",
       "    </tr>\n",
       "    <tr>\n",
       "      <td>2</td>\n",
       "      <td>2020-01-01 00:00:00</td>\n",
       "      <td>(4461340.48313723, 919588.07009129, 4449530.22...</td>\n",
       "      <td>r</td>\n",
       "      <td>1.434031</td>\n",
       "      <td>1.278061</td>\n",
       "      <td>2.184406</td>\n",
       "      <td>6.208743</td>\n",
       "      <td>10.996571</td>\n",
       "      <td>0.002721</td>\n",
       "      <td>0.983332</td>\n",
       "    </tr>\n",
       "    <tr>\n",
       "      <td>3</td>\n",
       "      <td>2020-01-02 00:00:00</td>\n",
       "      <td>(4461340.48313723, 919588.07009129, 4449530.22...</td>\n",
       "      <td>theta</td>\n",
       "      <td>276.548877</td>\n",
       "      <td>317.210283</td>\n",
       "      <td>235.996529</td>\n",
       "      <td>278.574041</td>\n",
       "      <td>291.455368</td>\n",
       "      <td>359.652877</td>\n",
       "      <td>279.613528</td>\n",
       "    </tr>\n",
       "    <tr>\n",
       "      <td>4</td>\n",
       "      <td>2020-01-02 00:00:00</td>\n",
       "      <td>(4461340.48313723, 919588.07009129, 4449530.22...</td>\n",
       "      <td>phi</td>\n",
       "      <td>-26.667795</td>\n",
       "      <td>-16.809543</td>\n",
       "      <td>-20.713873</td>\n",
       "      <td>-22.485480</td>\n",
       "      <td>-22.554287</td>\n",
       "      <td>-5.960945</td>\n",
       "      <td>-23.499242</td>\n",
       "    </tr>\n",
       "  </tbody>\n",
       "</table>\n",
       "</div>"
      ],
      "text/plain": [
       "                  time                                           location  \\\n",
       "0  2020-01-01 00:00:00  (4461340.48313723, 919588.07009129, 4449530.22...   \n",
       "1  2020-01-01 00:00:00  (4461340.48313723, 919588.07009129, 4449530.22...   \n",
       "2  2020-01-01 00:00:00  (4461340.48313723, 919588.07009129, 4449530.22...   \n",
       "3  2020-01-02 00:00:00  (4461340.48313723, 919588.07009129, 4449530.22...   \n",
       "4  2020-01-02 00:00:00  (4461340.48313723, 919588.07009129, 4449530.22...   \n",
       "\n",
       "  spherical_coord     mercury       venus        mars     jupiter      saturn  \\\n",
       "0           theta  276.044073  316.336778  236.147191  278.063313  293.199509   \n",
       "1             phi  -26.435921  -19.465005  -19.181823  -23.343231  -22.448143   \n",
       "2               r    1.434031    1.278061    2.184406    6.208743   10.996571   \n",
       "3           theta  276.548877  317.210283  235.996529  278.574041  291.455368   \n",
       "4             phi  -26.667795  -16.809543  -20.713873  -22.485480  -22.554287   \n",
       "\n",
       "         moon         sun  \n",
       "0  348.945687  280.086266  \n",
       "1  -11.553153  -23.812709  \n",
       "2    0.002721    0.983332  \n",
       "3  359.652877  279.613528  \n",
       "4   -5.960945  -23.499242  "
      ]
     },
     "execution_count": 27,
     "metadata": {},
     "output_type": "execute_result"
    }
   ],
   "source": [
    "# This cell takes forever btw (>3 hours lol)\n",
    "\n",
    "BODY_NAMES = ['mercury', 'venus', 'mars', 'jupiter', 'saturn', 'moon', 'sun']\n",
    "\n",
    "\n",
    "# helper_function\n",
    "def get_spherical(body):\n",
    "    # Returns (theta, phi, r) in (deg, deg, AU)\n",
    "    # given Skycoord object\n",
    "    # Note: r is given in km when the body is the Moon\n",
    "    \n",
    "    angles = [float(i) for i in body.to_string().split(' ')]\n",
    "    \n",
    "    # removing the units and converting to float\n",
    "    \n",
    "    body_dist_string = body.distance.to_string()\n",
    "    units = body_dist_string[-2:]\n",
    "    dist = float(body_dist_string[:-3])\n",
    "    if units == 'km':\n",
    "        dist /= 1.496e+8\n",
    "    return (angles[0], angles[1], dist)\n",
    "\n",
    "\n",
    "def add_noise(spherical_coords):\n",
    "    # Takes a tuple of (theta, phi, r) in (deg, deg, AU) and returns a noisified version of the data\n",
    "    # Currently doesn't add noise to r\n",
    "    theta = spherical_coords[0]\n",
    "    phi = spherical_coords[1]\n",
    "    r = spherical_coords[2]\n",
    "    return (theta + np.random.normal(0,1), phi + np.random.normal(0,1), r)\n",
    "\n",
    "\n",
    "# creating datetime objects for every day at 12am for 150 years\n",
    "# we're trying to predict the locations at other times during the day\n",
    "# Note: changed to 2-day range for testing purposes. Change range to generate data\n",
    "times = pd.date_range(start=\"2020-01-01-00-00-00\", end=\"2020-01-02-00-00-00\")\n",
    "\n",
    "celestial_bodies = pd.DataFrame()\n",
    "\n",
    "# iterating over times\n",
    "for time in times:\n",
    "    time = ast.time.Time(time.to_pydatetime())\n",
    "    # opening and instantiating the planets and heavenly bodies\n",
    "    loc = EarthLocation.of_site('medicina')\n",
    "    bodies = []\n",
    "    \n",
    "    with solar_system_ephemeris.set('builtin'):\n",
    "        for body_name in BODY_NAMES:\n",
    "            bodies.append(get_body(body_name, time, loc))\n",
    "    \n",
    "    row = {}\n",
    "    row['time'] = time\n",
    "    row['location'] = str(loc)\n",
    "    row['spherical_coord'] = ['theta', 'phi', 'r']\n",
    "    for body_name, body in zip(BODY_NAMES, bodies):\n",
    "        row[body_name] = add_noise(get_spherical(body)) # add noise to the raw spherical coordinates\n",
    "    celestial_bodies = celestial_bodies.append(pd.DataFrame(row), ignore_index = True)\n",
    "\n",
    "celestial_bodies.head()"
   ]
  },
  {
   "cell_type": "code",
   "execution_count": null,
   "metadata": {},
   "outputs": [],
   "source": []
  }
 ],
 "metadata": {
  "kernelspec": {
   "display_name": "Python 3",
   "language": "python",
   "name": "python3"
  }
 },
 "nbformat": 4,
 "nbformat_minor": 4
}
