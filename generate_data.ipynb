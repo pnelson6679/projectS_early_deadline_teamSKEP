{
 "cells": [
  {
   "cell_type": "code",
   "execution_count": null,
   "metadata": {},
   "outputs": [],
   "source": [
    "import astropy as ast\n",
    "from astropy.coordinates import solar_system_ephemeris, EarthLocation, GeocentricTrueEcliptic, get_body, SkyCoord, Distance\n",
    "from astroplan.moon import moon_phase_angle\n",
    "from collections import defaultdict\n",
    "import pandas as pd\n",
    "import numpy as np"
   ]
  },
  {
   "cell_type": "markdown",
   "metadata": {},
   "source": [
    "### Generating Data From Celestial Bodies"
   ]
  },
  {
   "cell_type": "code",
   "execution_count": null,
   "metadata": {},
   "outputs": [],
   "source": [
    "# All of the celestial bodies to generate synthetic data on\n",
    "BODY_NAMES = ['mercury', 'venus', 'mars', 'jupiter', 'saturn', 'moon', 'sun']"
   ]
  },
  {
   "cell_type": "code",
   "execution_count": null,
   "metadata": {},
   "outputs": [],
   "source": [
    "def get_coordinates(body):\n",
    "    # Takes a Skycoord object, returns (theta, phi, r, x, y, z) in (deg, deg, AU, AU, AU, AU)\n",
    "    angles = [float(i) for i in body.to_string().split(' ')]\n",
    "    body_dist_string = body.distance.to_string()\n",
    "    r = float(body_dist_string[:-3])\n",
    "    units = body_dist_string[-2:]\n",
    "    if units == 'km':\n",
    "        r /= 1.496e+8\n",
    "    \n",
    "    phi = angles[0]\n",
    "    theta = angles[1]\n",
    "\n",
    "    # Extract the Cartesian coordinates from the SkyCoord object\n",
    "    c = body.cartesian\n",
    "    x = c.x.value\n",
    "    y = c.y.value\n",
    "    z = c.z.value\n",
    "\n",
    "    body_dist_string = body.distance.to_string()\n",
    "    units = body_dist_string[-2:]\n",
    "    \n",
    "    # Convert from km to AU if necessary\n",
    "    if units == 'km':\n",
    "        x /= 1.496e+8\n",
    "        y /= 1.496e+8\n",
    "        z /= 1.496e+8\n",
    "    return (phi, theta, r, x, y, z)"
   ]
  },
  {
   "cell_type": "code",
   "execution_count": null,
   "metadata": {},
   "outputs": [],
   "source": [
    "def add_noise(coords):\n",
    "    # Takes a tuple of (theta, phi, r, x, y, z) in (deg, deg, AU, AU, AU, AU)\n",
    "    # and returns a noisified version of the data\n",
    "    # Currently doesn't add noise to r\n",
    "    theta, phi, r, x, y, z = coords\n",
    "    return (theta + np.random.normal(0,1), phi + np.random.normal(0,1), r + np.random.normal(0, 0.1),\n",
    "            x + np.random.normal(0, 0.1), y + np.random.normal(0, 0.1), z + np.random.normal(0, 0.1))\n",
    "\n",
    "# Range is 150 years, almost the limit available to us from the astropy API\n",
    "times = pd.date_range(start=\"1850-01-01-00-00-00\", end=\"2000-01-01-00-00-00\", freq='5D')\n",
    "\n",
    "# Location is the Medicina Radio Observatory, located in Italy. Chosen for proximity to Greece\n",
    "loc = EarthLocation.of_site('medicina')\n",
    "rows = defaultdict(list)\n"
   ]
  },
  {
   "cell_type": "code",
   "execution_count": null,
   "metadata": {},
   "outputs": [],
   "source": [
    "# Generate coordinate data in terms of spherical Geocentric Celestial Reference System (GCRS), default for astropy\n",
    "for time in times:\n",
    "    time = ast.time.Time(time.to_pydatetime())\n",
    "    bodies = []\n",
    "    \n",
    "    with solar_system_ephemeris.set('builtin'):\n",
    "        for body_name in BODY_NAMES:\n",
    "            bodies.append(get_body(body_name, time, loc))\n",
    "\n",
    "    rows['time'].append(time)\n",
    "    rows['location'].append(str(loc))\n",
    "    rows['moon_phase'].append(moon_phase_angle(time).value)\n",
    "\n",
    "    for body_name, body in zip(BODY_NAMES, bodies):\n",
    "        coordinates = add_noise(get_coordinates(body))\n",
    "        coord_strings = ['theta', 'phi', 'r', 'x', 'y', 'z']\n",
    "        for i in range(len(coord_strings)):\n",
    "            c = coordinates[i]\n",
    "            rows[body_name + '_' + coord_strings[i]].append(c)\n",
    "\n",
    "celestial_bodies = pd.DataFrame(rows)\n",
    "celestial_bodies.to_csv('data.csv', index=False)"
   ]
  },
  {
   "cell_type": "code",
   "execution_count": null,
   "metadata": {},
   "outputs": [],
   "source": [
    "# Load the generated data (which needs to be converted to the geocentric ecliptic coordinate system)\n",
    "data = pd.read_csv('data.csv')"
   ]
  },
  {
   "cell_type": "code",
   "execution_count": null,
   "metadata": {},
   "outputs": [],
   "source": [
    "# Convert coordinates to the standard geocentric true ecliptic coordinate system\n",
    "# See https://docs.astropy.org/en/stable/api/astropy.coordinates.GeocentricTrueEcliptic.html for more documentation\n",
    "\n",
    "rows = defaultdict(list)\n",
    "for name in BODY_NAMES:\n",
    "    phi_col = data[name + '_phi']\n",
    "    theta_col = data[name + '_theta']\n",
    "    r_col = data[name + '_r']\n",
    "    for phi, theta, r in zip(phi_col, theta_col, r_col):\n",
    "        ecliptic = SkyCoord(theta, phi, abs(r), frame='gcrs', unit=('deg', 'deg', 'AU')).transform_to(GeocentricTrueEcliptic())\n",
    "        coordinates = get_coordinates(ecliptic)\n",
    "        coord_strings = ['lambda', 'beta', 'delta', 'x', 'y', 'z']\n",
    "        for i in range(len(coord_strings)):\n",
    "            c = coordinates[i]\n",
    "            rows[name + '_' + coord_strings[i]].append(c)"
   ]
  },
  {
   "cell_type": "code",
   "execution_count": null,
   "metadata": {},
   "outputs": [],
   "source": [
    "# Prepare the final dataset as final_data.csv\n",
    "\n",
    "final_data = pd.DataFrame(rows)\n",
    "final_data['time'] = data['time'] # Time is given in yyyy-mm-dd hh:mm:ss format\n",
    "final_data['location'] = data['location'] # Location is given as (longitude, latitude, height) in m\n",
    "final_data['moon_phase'] = data['moon_phase'] # Moon phase \n",
    "final_data.to_csv('final_data.csv', index=False) # All other columns are the spherical and Cartesian geocentric true ecliptic coordinate system values as described in the writeup"
   ]
  },
  {
   "cell_type": "code",
   "execution_count": null,
   "metadata": {},
   "outputs": [],
   "source": [
    "final_data"
   ]
  }
 ],
 "metadata": {
  "kernelspec": {
   "display_name": "Python 3",
   "language": "python",
   "name": "python3"
  },
  "language_info": {
   "codemirror_mode": {
    "name": "ipython",
    "version": 3
   },
   "file_extension": ".py",
   "mimetype": "text/x-python",
   "name": "python",
   "nbconvert_exporter": "python",
   "pygments_lexer": "ipython3",
   "version": "3.7.4"
  }
 },
 "nbformat": 4,
 "nbformat_minor": 4
}
