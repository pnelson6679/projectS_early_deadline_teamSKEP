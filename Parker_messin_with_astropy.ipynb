{
 "cells": [
  {
   "cell_type": "code",
   "execution_count": 14,
   "metadata": {},
   "outputs": [],
   "source": [
    "import astropy as ast\n",
    "from astropy.coordinates import solar_system_ephemeris, EarthLocation\n",
    "from astropy.coordinates import get_body_barycentric, get_body, get_moon\n",
    "\n",
    "import datetime\n",
    "from datetime import datetime\n",
    "import pandas as pd\n",
    "import numpy as np"
   ]
  },
  {
   "cell_type": "code",
   "execution_count": null,
   "metadata": {},
   "outputs": [],
   "source": [
    "bodies = solar_system_ephemeris"
   ]
  },
  {
   "cell_type": "code",
   "execution_count": null,
   "metadata": {},
   "outputs": [],
   "source": [
    "bodies.bodies"
   ]
  },
  {
   "cell_type": "code",
   "execution_count": 4,
   "metadata": {},
   "outputs": [
    {
     "data": {
      "text/plain": [
       "<SkyCoord (GCRS: obstime=1998-08-08 02:45:37, obsgeoloc=(0., 0., 0.) m, obsgeovel=(0., 0., 0.) m / s): (ra, dec, distance) in (deg, deg, km)\n",
       "    (317.74514507, -14.75479743, 372805.1468126)>"
      ]
     },
     "execution_count": 4,
     "metadata": {},
     "output_type": "execute_result"
    }
   ],
   "source": [
    "# to get the position of the moon, we need to make a time object\n",
    "example_time = datetime(1998, 8, 8, 2, 45, 37)\n",
    "future_time = datetime(1999, 8, 8, 2, 45, 37)\n",
    "future_time = ast.time.Time(future_time)\n",
    "moon_time = ast.time.Time(example_time)\n",
    "\n",
    "#inpputing into the get_moon function to get the position\n",
    "moon = get_moon(moon_time)\n",
    "moon"
   ]
  },
  {
   "cell_type": "code",
   "execution_count": null,
   "metadata": {},
   "outputs": [],
   "source": [
    "# listing different locations in database\n",
    "EarthLocation.get_site_names()"
   ]
  },
  {
   "cell_type": "code",
   "execution_count": null,
   "metadata": {},
   "outputs": [],
   "source": [
    "# Trying other planets with a location\n",
    "location = EarthLocation.of_site('Sacramento Peak')\n",
    "\n",
    "\n",
    "with solar_system_ephemeris.set('builtin'):\n",
    "    mars = get_body('mars', moon_time, location)\n",
    "\n",
    "mars\n",
    "# this took a while to run ~15 seconds.. \n",
    "# may be a problem for generating data"
   ]
  },
  {
   "cell_type": "code",
   "execution_count": null,
   "metadata": {},
   "outputs": [],
   "source": [
    "# trying with cartesian coords\n",
    "# no need for earth location because it is not relative to earth\n",
    "with solar_system_ephemeris.set('builtin'):\n",
    "    mars_cart = get_body_barycentric('mars', moon_time)\n",
    "\n",
    "mars_cart"
   ]
  },
  {
   "cell_type": "code",
   "execution_count": null,
   "metadata": {},
   "outputs": [],
   "source": [
    "# trying to understand the skycoord object\n",
    "mars"
   ]
  },
  {
   "cell_type": "code",
   "execution_count": null,
   "metadata": {},
   "outputs": [],
   "source": [
    "mars.obsgeovel"
   ]
  },
  {
   "cell_type": "code",
   "execution_count": null,
   "metadata": {},
   "outputs": [],
   "source": [
    "mars.info"
   ]
  },
  {
   "cell_type": "code",
   "execution_count": null,
   "metadata": {},
   "outputs": [],
   "source": [
    "mars.to_string('decimal')"
   ]
  },
  {
   "cell_type": "code",
   "execution_count": null,
   "metadata": {},
   "outputs": [],
   "source": [
    "mars.distance.to_string()"
   ]
  },
  {
   "cell_type": "code",
   "execution_count": null,
   "metadata": {},
   "outputs": [],
   "source": [
    "mars.representation_type"
   ]
  },
  {
   "cell_type": "code",
   "execution_count": null,
   "metadata": {},
   "outputs": [],
   "source": [
    "mars.shape"
   ]
  },
  {
   "cell_type": "code",
   "execution_count": null,
   "metadata": {},
   "outputs": [],
   "source": [
    "# this method computes thes new position of the object given two optional inputs: a new time or \n",
    "# time delta for the amount of time to evolve the postion of the source\n",
    "\n",
    "# you must input one of them with a velocity.. don't know if this is going to be useful\n",
    "\n",
    "mars.apply_space_motion(new_obstime = future_time)"
   ]
  },
  {
   "cell_type": "code",
   "execution_count": null,
   "metadata": {},
   "outputs": [],
   "source": [
    "# Computes coordinates at the given offset from this coordinate.\n",
    "\n",
    "# Parameters\n",
    "# position_angle : position_angle of offset\n",
    "\n",
    "# separation : offset angular separation\n",
    "\n",
    "# Returns\n",
    "# newpoints : SkyCoord\n",
    "# The coordinates for the location that corresponds to offsetting by the given position_angle and separation.\n",
    "\n",
    "# TL;DR\n",
    "# given new angles returns new position\n",
    "\n",
    "mars.directional_offset_by(45, 24)"
   ]
  },
  {
   "cell_type": "code",
   "execution_count": null,
   "metadata": {},
   "outputs": [],
   "source": [
    "# obvious: gets constellation that it's apart of\n",
    "mars.get_constellation()"
   ]
  },
  {
   "cell_type": "code",
   "execution_count": null,
   "metadata": {},
   "outputs": [],
   "source": [
    "# Computes the on-sky position angle (East of North) between this SkyCoord and another.\n",
    "\n",
    "mars.position_angle(moon)"
   ]
  },
  {
   "cell_type": "code",
   "execution_count": null,
   "metadata": {},
   "outputs": [],
   "source": [
    "# Computes on-sky separation between this coord and another\n",
    "\n",
    "mars.separation(moon)"
   ]
  },
  {
   "cell_type": "code",
   "execution_count": null,
   "metadata": {},
   "outputs": [],
   "source": [
    "mars.separation_3d(moon)"
   ]
  },
  {
   "cell_type": "code",
   "execution_count": null,
   "metadata": {},
   "outputs": [],
   "source": [
    "#Returns the sky offset frame with this SkyCoord at the origin.\n",
    "mars.skyoffset_frame()"
   ]
  },
  {
   "cell_type": "code",
   "execution_count": null,
   "metadata": {},
   "outputs": [],
   "source": [
    "# Default \n",
    "mars.to_string('decimal')"
   ]
  },
  {
   "cell_type": "code",
   "execution_count": null,
   "metadata": {},
   "outputs": [],
   "source": [
    "mars.to_string('dms')"
   ]
  },
  {
   "cell_type": "code",
   "execution_count": null,
   "metadata": {},
   "outputs": [],
   "source": [
    "mars.to_string('hmsdms')"
   ]
  },
  {
   "cell_type": "markdown",
   "metadata": {},
   "source": [
    "### Generating Data From Planets \n",
    "Mercury, Venus, Mars, Jupiter and Saturn"
   ]
  },
  {
   "cell_type": "code",
   "execution_count": 13,
   "metadata": {},
   "outputs": [
    {
     "data": {
      "text/html": [
       "<div>\n",
       "<style scoped>\n",
       "    .dataframe tbody tr th:only-of-type {\n",
       "        vertical-align: middle;\n",
       "    }\n",
       "\n",
       "    .dataframe tbody tr th {\n",
       "        vertical-align: top;\n",
       "    }\n",
       "\n",
       "    .dataframe thead th {\n",
       "        text-align: right;\n",
       "    }\n",
       "</style>\n",
       "<table border=\"1\" class=\"dataframe\">\n",
       "  <thead>\n",
       "    <tr style=\"text-align: right;\">\n",
       "      <th></th>\n",
       "      <th>Time</th>\n",
       "      <th>Mercury</th>\n",
       "      <th>Venus</th>\n",
       "      <th>Mars</th>\n",
       "      <th>Jupiter</th>\n",
       "      <th>Saturn</th>\n",
       "      <th>Moon</th>\n",
       "      <th>Sun</th>\n",
       "    </tr>\n",
       "  </thead>\n",
       "  <tbody>\n",
       "    <tr>\n",
       "      <th>0</th>\n",
       "      <td>1998-08-08 02:45:37</td>\n",
       "      <td>146.207000</td>\n",
       "      <td>115.486000</td>\n",
       "      <td>113.692000</td>\n",
       "      <td>358.157000</td>\n",
       "      <td>32.249000</td>\n",
       "      <td>317.172000</td>\n",
       "      <td>137.862000</td>\n",
       "    </tr>\n",
       "    <tr>\n",
       "      <th>1</th>\n",
       "      <td>1998-08-08 02:45:37</td>\n",
       "      <td>8.469830</td>\n",
       "      <td>21.522600</td>\n",
       "      <td>22.541800</td>\n",
       "      <td>-2.380330</td>\n",
       "      <td>10.312800</td>\n",
       "      <td>-15.529100</td>\n",
       "      <td>16.217400</td>\n",
       "    </tr>\n",
       "    <tr>\n",
       "      <th>2</th>\n",
       "      <td>1998-08-08 02:45:37</td>\n",
       "      <td>2.462631</td>\n",
       "      <td>2.462631</td>\n",
       "      <td>2.462631</td>\n",
       "      <td>2.462631</td>\n",
       "      <td>2.462631</td>\n",
       "      <td>2.462631</td>\n",
       "      <td>2.462631</td>\n",
       "    </tr>\n",
       "    <tr>\n",
       "      <th>3</th>\n",
       "      <td>1998-08-08 02:45:37</td>\n",
       "      <td>146.207000</td>\n",
       "      <td>115.486000</td>\n",
       "      <td>113.692000</td>\n",
       "      <td>358.157000</td>\n",
       "      <td>32.249000</td>\n",
       "      <td>317.172000</td>\n",
       "      <td>137.862000</td>\n",
       "    </tr>\n",
       "    <tr>\n",
       "      <th>4</th>\n",
       "      <td>1998-08-08 02:45:37</td>\n",
       "      <td>8.469830</td>\n",
       "      <td>21.522600</td>\n",
       "      <td>22.541800</td>\n",
       "      <td>-2.380330</td>\n",
       "      <td>10.312800</td>\n",
       "      <td>-15.529100</td>\n",
       "      <td>16.217400</td>\n",
       "    </tr>\n",
       "  </tbody>\n",
       "</table>\n",
       "</div>"
      ],
      "text/plain": [
       "                  Time     Mercury       Venus        Mars     Jupiter  \\\n",
       "0  1998-08-08 02:45:37  146.207000  115.486000  113.692000  358.157000   \n",
       "1  1998-08-08 02:45:37    8.469830   21.522600   22.541800   -2.380330   \n",
       "2  1998-08-08 02:45:37    2.462631    2.462631    2.462631    2.462631   \n",
       "3  1998-08-08 02:45:37  146.207000  115.486000  113.692000  358.157000   \n",
       "4  1998-08-08 02:45:37    8.469830   21.522600   22.541800   -2.380330   \n",
       "\n",
       "      Saturn        Moon         Sun  \n",
       "0  32.249000  317.172000  137.862000  \n",
       "1  10.312800  -15.529100   16.217400  \n",
       "2   2.462631    2.462631    2.462631  \n",
       "3  32.249000  317.172000  137.862000  \n",
       "4  10.312800  -15.529100   16.217400  "
      ]
     },
     "execution_count": 13,
     "metadata": {},
     "output_type": "execute_result"
    }
   ],
   "source": [
    "# This cell takes forever btw (>3 hours lol)\n",
    "time = \n",
    "# helper_function\n",
    "def get_spherical(body):\n",
    "    # Returns (theta, phi, r) in (deg, deg, AU)\n",
    "    # given Skycoord object\n",
    "    \n",
    "    angles = [float(i) for i in body.to_string().split(' ')]\n",
    "    \n",
    "    # removing the units and converting to float\n",
    "    dist = float(mars.distance.to_string()[:-3])\n",
    "    \n",
    "    full_tuple = (angles[0], angles[1], dist)\n",
    "    \n",
    "    return full_tuple\n",
    "\n",
    "# creating datetime objects for every day at 12am for 150 years\n",
    "# we're trying to predict the locations at other times during the day\n",
    "times = pd.date_range(start=\"1870-01-01-00-00-00\", end=\"2020-01-01-00-00-00\", freq = 'W')\n",
    "\n",
    "celestial_bodies = pd.DataFrame()\n",
    "# iterating over times\n",
    "for time in times:\n",
    "    # opening and instantiating the planets and heavenly bodies\n",
    "    loc = EarthLocation.of_site('medicina')\n",
    "    time = moon_time\n",
    "    with solar_system_ephemeris.set('builtin'):\n",
    "        mercury = get_body('mercury', time, loc)\n",
    "        venus = get_body('venus', time, loc)\n",
    "        mars = get_body('mars', time, loc)\n",
    "        jupiter = get_body('jupiter', time, loc)\n",
    "        saturn = get_body('saturn', time, loc)\n",
    "        moon = get_body('moon', time, loc)\n",
    "        sun = get_body('sun', time, loc)\n",
    "    \n",
    "    \n",
    "    # I guess I coulda made temp just a series and appended it to the \n",
    "    # dataframe to make it faster but this seemed a simpler way to go\n",
    "    \n",
    "    # creating a dataframe of tuples\n",
    "    # (theta, phi, r) in (deg, deg, AU)\n",
    "    temp = pd.DataFrame({'Time' : time, \n",
    "                        'Mercury' : get_spherical(mercury),\n",
    "                        'Venus' : get_spherical(venus),\n",
    "                        'Mars' : get_spherical(mars),\n",
    "                        'Jupiter' : get_spherical(jupiter),\n",
    "                        'Saturn' : get_spherical(saturn),\n",
    "                        'Moon' : get_spherical(moon),\n",
    "                        'Sun' : get_spherical(sun)})\n",
    "    \n",
    "    celestial_bodies = pd.concat([celestial_bodies, temp], ignore_index=True)\n",
    "    \n",
    "\n",
    "\n",
    "celestial_bodies.head()\n",
    "\n"
   ]
  },
  {
   "cell_type": "code",
   "execution_count": 15,
   "metadata": {},
   "outputs": [
    {
     "data": {
      "text/plain": [
       "(164361, 8)"
      ]
     },
     "execution_count": 15,
     "metadata": {},
     "output_type": "execute_result"
    }
   ],
   "source": [
    "celestial_bodies.shape"
   ]
  },
  {
   "cell_type": "code",
   "execution_count": null,
   "metadata": {},
   "outputs": [],
   "source": []
  },
  {
   "cell_type": "code",
   "execution_count": null,
   "metadata": {},
   "outputs": [],
   "source": []
  },
  {
   "cell_type": "code",
   "execution_count": null,
   "metadata": {},
   "outputs": [],
   "source": []
  },
  {
   "cell_type": "code",
   "execution_count": null,
   "metadata": {},
   "outputs": [],
   "source": []
  }
 ],
 "metadata": {
  "kernelspec": {
   "display_name": "Python 3",
   "language": "python",
   "name": "python3"
  },
  "language_info": {
   "codemirror_mode": {
    "name": "ipython",
    "version": 3
   },
   "file_extension": ".py",
   "mimetype": "text/x-python",
   "name": "python",
   "nbconvert_exporter": "python",
   "pygments_lexer": "ipython3",
   "version": "3.8.3"
  }
 },
 "nbformat": 4,
 "nbformat_minor": 4
}
