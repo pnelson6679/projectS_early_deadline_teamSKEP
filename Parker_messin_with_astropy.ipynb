{
 "cells": [
  {
   "cell_type": "code",
   "execution_count": 19,
   "metadata": {},
   "outputs": [],
   "source": [
    "import astropy as ast\n",
    "from astropy.coordinates import solar_system_ephemeris, EarthLocation\n",
    "from astropy.coordinates import get_body_barycentric, get_body, get_moon\n",
    "\n",
    "import datetime\n",
    "from datetime import datetime"
   ]
  },
  {
   "cell_type": "code",
   "execution_count": 20,
   "metadata": {},
   "outputs": [],
   "source": [
    "bodies = solar_system_ephemeris"
   ]
  },
  {
   "cell_type": "code",
   "execution_count": 21,
   "metadata": {},
   "outputs": [
    {
     "data": {
      "text/plain": [
       "('earth',\n",
       " 'sun',\n",
       " 'moon',\n",
       " 'mercury',\n",
       " 'venus',\n",
       " 'earth-moon-barycenter',\n",
       " 'mars',\n",
       " 'jupiter',\n",
       " 'saturn',\n",
       " 'uranus',\n",
       " 'neptune')"
      ]
     },
     "execution_count": 21,
     "metadata": {},
     "output_type": "execute_result"
    }
   ],
   "source": [
    "bodies.bodies"
   ]
  },
  {
   "cell_type": "code",
   "execution_count": 50,
   "metadata": {},
   "outputs": [
    {
     "data": {
      "text/plain": [
       "<SkyCoord (GCRS: obstime=1998-08-08 02:45:37, obsgeoloc=(0., 0., 0.) m, obsgeovel=(0., 0., 0.) m / s): (ra, dec, distance) in (deg, deg, km)\n",
       "    (317.74514507, -14.75479743, 372805.1468126)>"
      ]
     },
     "execution_count": 50,
     "metadata": {},
     "output_type": "execute_result"
    }
   ],
   "source": [
    "# to get the position of the moon, we need to make a time object\n",
    "example_time = datetime(1998, 8, 8, 2, 45, 37)\n",
    "future_time = datetime(1999, 8, 8, 2, 45, 37)\n",
    "future_time = ast.time.Time(future_time)\n",
    "moon_time = ast.time.Time(example_time)\n",
    "\n",
    "#inpputing into the get_moon function to get the position\n",
    "moon = get_moon(moon_time)\n",
    "moon"
   ]
  },
  {
   "cell_type": "code",
   "execution_count": 26,
   "metadata": {},
   "outputs": [
    {
     "data": {
      "text/plain": [
       "['',\n",
       " '',\n",
       " '',\n",
       " 'ALMA',\n",
       " 'ATST',\n",
       " 'Anglo-Australian Observatory',\n",
       " 'Apache Point',\n",
       " 'Apache Point Observatory',\n",
       " 'Atacama Large Millimeter Array',\n",
       " 'BAO',\n",
       " 'BBSO',\n",
       " 'Beijing XingLong Observatory',\n",
       " 'Black Moshannon Observatory',\n",
       " 'CHARA',\n",
       " 'Canada-France-Hawaii Telescope',\n",
       " 'Catalina Observatory',\n",
       " 'Cerro Pachon',\n",
       " 'Cerro Paranal',\n",
       " 'Cerro Tololo',\n",
       " 'Cerro Tololo Interamerican Observatory',\n",
       " 'DCT',\n",
       " 'DKIST',\n",
       " 'Discovery Channel Telescope',\n",
       " 'Dominion Astrophysical Observatory',\n",
       " 'GBT',\n",
       " 'Gemini South',\n",
       " 'Green Bank Telescope',\n",
       " 'Hale Telescope',\n",
       " 'Haleakala Observatories',\n",
       " 'Happy Jack',\n",
       " 'IAO',\n",
       " 'JCMT',\n",
       " 'James Clerk Maxwell Telescope',\n",
       " 'Jansky Very Large Array',\n",
       " 'Keck Observatory',\n",
       " 'Kitt Peak',\n",
       " 'Kitt Peak National Observatory',\n",
       " 'La Silla Observatory',\n",
       " 'Large Binocular Telescope',\n",
       " 'Las Campanas Observatory',\n",
       " 'Lick Observatory',\n",
       " 'Lowell Observatory',\n",
       " 'MWA',\n",
       " 'Manastash Ridge Observatory',\n",
       " 'McDonald Observatory',\n",
       " 'Medicina',\n",
       " 'Medicina Dish',\n",
       " 'Michigan-Dartmouth-MIT Observatory',\n",
       " 'Mount Graham International Observatory',\n",
       " 'Mt Graham',\n",
       " 'Mt. Ekar 182 cm. Telescope',\n",
       " 'Mt. Stromlo Observatory',\n",
       " 'Multiple Mirror Telescope',\n",
       " 'Murchison Widefield Array',\n",
       " 'NOV',\n",
       " 'NST',\n",
       " 'National Observatory of Venezuela',\n",
       " 'Noto',\n",
       " 'Observatorio Astronomico Nacional, San Pedro Martir',\n",
       " 'Observatorio Astronomico Nacional, Tonantzintla',\n",
       " 'Palomar',\n",
       " 'Paranal Observatory',\n",
       " 'Roque de los Muchachos',\n",
       " 'SAAO',\n",
       " 'SALT',\n",
       " 'SPO',\n",
       " 'SRT',\n",
       " 'Sac Peak',\n",
       " 'Sacramento Peak',\n",
       " 'Siding Spring Observatory',\n",
       " 'Southern African Large Telescope',\n",
       " 'Subaru',\n",
       " 'Subaru Telescope',\n",
       " 'Sunspot',\n",
       " 'Sutherland',\n",
       " 'TUG',\n",
       " 'UKIRT',\n",
       " 'United Kingdom Infrared Telescope',\n",
       " 'Vainu Bappu Observatory',\n",
       " 'Very Large Array',\n",
       " 'W. M. Keck Observatory',\n",
       " 'Whipple',\n",
       " 'Whipple Observatory',\n",
       " 'aao',\n",
       " 'alma',\n",
       " 'apo',\n",
       " 'bbso',\n",
       " 'bmo',\n",
       " 'cfht',\n",
       " 'ctio',\n",
       " 'dao',\n",
       " 'dct',\n",
       " 'dkist',\n",
       " 'ekar',\n",
       " 'example_site',\n",
       " 'flwo',\n",
       " 'gbt',\n",
       " 'gemini_north',\n",
       " 'gemini_south',\n",
       " 'gemn',\n",
       " 'gems',\n",
       " 'greenwich',\n",
       " 'haleakala',\n",
       " 'iao',\n",
       " 'irtf',\n",
       " 'jcmt',\n",
       " 'keck',\n",
       " 'kpno',\n",
       " 'lapalma',\n",
       " 'lasilla',\n",
       " 'lbt',\n",
       " 'lco',\n",
       " 'lick',\n",
       " 'lowell',\n",
       " 'mcdonald',\n",
       " 'mdm',\n",
       " 'medicina',\n",
       " 'mmt',\n",
       " 'mro',\n",
       " 'mso',\n",
       " 'mtbigelow',\n",
       " 'mwa',\n",
       " 'mwo',\n",
       " 'noto',\n",
       " 'ohp',\n",
       " 'paranal',\n",
       " 'salt',\n",
       " 'sirene',\n",
       " 'spm',\n",
       " 'spo',\n",
       " 'srt',\n",
       " 'sso',\n",
       " 'tona',\n",
       " 'tug',\n",
       " 'ukirt',\n",
       " 'vbo',\n",
       " 'vla']"
      ]
     },
     "execution_count": 26,
     "metadata": {},
     "output_type": "execute_result"
    }
   ],
   "source": [
    "# listing different locations in database\n",
    "EarthLocation.get_site_names()"
   ]
  },
  {
   "cell_type": "code",
   "execution_count": 33,
   "metadata": {},
   "outputs": [
    {
     "data": {
      "text/plain": [
       "<SkyCoord (GCRS: obstime=1998-08-08 02:45:37, obsgeoloc=(-1658354.094097, -5107436.07486737, 3435229.07627812) m, obsgeovel=(372.43014908, -120.8917283, 0.05081326) m / s): (ra, dec, distance) in (deg, deg, AU)\n",
       "    (113.69061223, 22.54184605, 2.46265131)>"
      ]
     },
     "execution_count": 33,
     "metadata": {},
     "output_type": "execute_result"
    }
   ],
   "source": [
    "# Trying other planets with a location\n",
    "location = EarthLocation.of_site('Sacramento Peak')\n",
    "\n",
    "\n",
    "with solar_system_ephemeris.set('builtin'):\n",
    "    mars = get_body('mars', moon_time, location)\n",
    "\n",
    "mars\n",
    "# this took a while to run ~15 seconds.. \n",
    "# may be a problem for generating data"
   ]
  },
  {
   "cell_type": "code",
   "execution_count": 34,
   "metadata": {},
   "outputs": [
    {
     "data": {
      "text/plain": [
       "<CartesianRepresentation (x, y, z) in AU\n",
       "    (-0.20064669, 1.43092547, 0.66171799)>"
      ]
     },
     "execution_count": 34,
     "metadata": {},
     "output_type": "execute_result"
    }
   ],
   "source": [
    "# trying with cartesian coords\n",
    "# no need for earth location because it is not relative to earth\n",
    "with solar_system_ephemeris.set('builtin'):\n",
    "    mars_cart = get_body_barycentric('mars', moon_time)\n",
    "\n",
    "mars_cart"
   ]
  },
  {
   "cell_type": "code",
   "execution_count": 35,
   "metadata": {},
   "outputs": [
    {
     "data": {
      "text/plain": [
       "<SkyCoord (GCRS: obstime=1998-08-08 02:45:37, obsgeoloc=(-1658354.094097, -5107436.07486737, 3435229.07627812) m, obsgeovel=(372.43014908, -120.8917283, 0.05081326) m / s): (ra, dec, distance) in (deg, deg, AU)\n",
       "    (113.69061223, 22.54184605, 2.46265131)>"
      ]
     },
     "execution_count": 35,
     "metadata": {},
     "output_type": "execute_result"
    }
   ],
   "source": [
    "# trying to understand the skycoord object\n",
    "mars"
   ]
  },
  {
   "cell_type": "code",
   "execution_count": 36,
   "metadata": {},
   "outputs": [
    {
     "data": {
      "text/plain": [
       "dtype = object\n",
       "unit = deg,deg,AU\n",
       "class = SkyCoord\n",
       "n_bad = 0"
      ]
     },
     "execution_count": 36,
     "metadata": {},
     "output_type": "execute_result"
    }
   ],
   "source": [
    "mars.info"
   ]
  },
  {
   "cell_type": "code",
   "execution_count": 37,
   "metadata": {},
   "outputs": [
    {
     "data": {
      "text/plain": [
       "<GCRS Coordinate (obstime=1998-08-08 02:45:37, obsgeoloc=(-1658354.094097, -5107436.07486737, 3435229.07627812) m, obsgeovel=(372.43014908, -120.8917283, 0.05081326) m / s): (ra, dec, distance) in (deg, deg, AU)\n",
       "    (113.69061223, 22.54184605, 2.46265131)>"
      ]
     },
     "execution_count": 37,
     "metadata": {},
     "output_type": "execute_result"
    }
   ],
   "source": [
    "mars.frame"
   ]
  },
  {
   "cell_type": "code",
   "execution_count": 39,
   "metadata": {},
   "outputs": [
    {
     "data": {
      "text/plain": [
       "astropy.coordinates.representation.SphericalRepresentation"
      ]
     },
     "execution_count": 39,
     "metadata": {},
     "output_type": "execute_result"
    }
   ],
   "source": [
    "mars.representation_type"
   ]
  },
  {
   "cell_type": "code",
   "execution_count": 40,
   "metadata": {},
   "outputs": [
    {
     "data": {
      "text/plain": [
       "()"
      ]
     },
     "execution_count": 40,
     "metadata": {},
     "output_type": "execute_result"
    }
   ],
   "source": [
    "mars.shape"
   ]
  },
  {
   "cell_type": "code",
   "execution_count": 45,
   "metadata": {},
   "outputs": [
    {
     "ename": "ValueError",
     "evalue": "SkyCoord requires velocity data to evolve the position.",
     "output_type": "error",
     "traceback": [
      "\u001b[1;31m---------------------------------------------------------------------------\u001b[0m",
      "\u001b[1;31mValueError\u001b[0m                                Traceback (most recent call last)",
      "\u001b[1;32m<ipython-input-45-1663312d7cd7>\u001b[0m in \u001b[0;36m<module>\u001b[1;34m\u001b[0m\n\u001b[0;32m      4\u001b[0m \u001b[1;31m# you must input one of them with a velocity.. don't know if this is going to be useful\u001b[0m\u001b[1;33m\u001b[0m\u001b[1;33m\u001b[0m\u001b[1;33m\u001b[0m\u001b[0m\n\u001b[0;32m      5\u001b[0m \u001b[1;33m\u001b[0m\u001b[0m\n\u001b[1;32m----> 6\u001b[1;33m \u001b[0mmars\u001b[0m\u001b[1;33m.\u001b[0m\u001b[0mapply_space_motion\u001b[0m\u001b[1;33m(\u001b[0m\u001b[0mnew_obstime\u001b[0m \u001b[1;33m=\u001b[0m \u001b[0mfuture_time\u001b[0m\u001b[1;33m)\u001b[0m\u001b[1;33m\u001b[0m\u001b[1;33m\u001b[0m\u001b[0m\n\u001b[0m",
      "\u001b[1;32mC:\\ProgramData\\Anaconda3\\lib\\site-packages\\astropy\\coordinates\\sky_coordinate.py\u001b[0m in \u001b[0;36mapply_space_motion\u001b[1;34m(self, new_obstime, dt)\u001b[0m\n\u001b[0;32m    489\u001b[0m         \u001b[1;31m# Validate that we have velocity info\u001b[0m\u001b[1;33m\u001b[0m\u001b[1;33m\u001b[0m\u001b[1;33m\u001b[0m\u001b[0m\n\u001b[0;32m    490\u001b[0m         \u001b[1;32mif\u001b[0m \u001b[1;34m's'\u001b[0m \u001b[1;32mnot\u001b[0m \u001b[1;32min\u001b[0m \u001b[0mself\u001b[0m\u001b[1;33m.\u001b[0m\u001b[0mframe\u001b[0m\u001b[1;33m.\u001b[0m\u001b[0mdata\u001b[0m\u001b[1;33m.\u001b[0m\u001b[0mdifferentials\u001b[0m\u001b[1;33m:\u001b[0m\u001b[1;33m\u001b[0m\u001b[1;33m\u001b[0m\u001b[0m\n\u001b[1;32m--> 491\u001b[1;33m             raise ValueError('SkyCoord requires velocity data to evolve the '\n\u001b[0m\u001b[0;32m    492\u001b[0m                              'position.')\n\u001b[0;32m    493\u001b[0m \u001b[1;33m\u001b[0m\u001b[0m\n",
      "\u001b[1;31mValueError\u001b[0m: SkyCoord requires velocity data to evolve the position."
     ]
    }
   ],
   "source": [
    "# this method computes thes new position of the object given two optional inputs: a new time or \n",
    "# time delta for the amount of time to evolve the postion of the source\n",
    "\n",
    "# you must input one of them with a velocity.. don't know if this is going to be useful\n",
    "\n",
    "mars.apply_space_motion(new_obstime = future_time)"
   ]
  },
  {
   "cell_type": "code",
   "execution_count": 46,
   "metadata": {},
   "outputs": [
    {
     "data": {
      "text/plain": [
       "<SkyCoord (GCRS: obstime=1998-08-08 02:45:37, obsgeoloc=(-1658354.094097, -5107436.07486737, 3435229.07627812) m, obsgeovel=(372.43014908, -120.8917283, 0.05081326) m / s): (ra, dec) in deg\n",
       "    (60.38034597, -16.06708415)>"
      ]
     },
     "execution_count": 46,
     "metadata": {},
     "output_type": "execute_result"
    }
   ],
   "source": [
    "# Computes coordinates at the given offset from this coordinate.\n",
    "\n",
    "# Parameters\n",
    "# position_angle : position_angle of offset\n",
    "\n",
    "# separation : offset angular separation\n",
    "\n",
    "# Returns\n",
    "# newpoints : SkyCoord\n",
    "# The coordinates for the location that corresponds to offsetting by the given position_angle and separation.\n",
    "\n",
    "# TL;DR\n",
    "# given new angles returns new position\n",
    "\n",
    "mars.directional_offset_by(45, 24)"
   ]
  },
  {
   "cell_type": "code",
   "execution_count": 47,
   "metadata": {},
   "outputs": [
    {
     "data": {
      "text/plain": [
       "'Gemini'"
      ]
     },
     "execution_count": 47,
     "metadata": {},
     "output_type": "execute_result"
    }
   ],
   "source": [
    "# obvious: gets constellation that it's apart of\n",
    "mars.get_constellation()"
   ]
  },
  {
   "cell_type": "code",
   "execution_count": 51,
   "metadata": {},
   "outputs": [
    {
     "data": {
      "text/latex": [
       "$4.93328\\mathrm{rad}$"
      ],
      "text/plain": [
       "<Angle 4.93328131 rad>"
      ]
     },
     "execution_count": 51,
     "metadata": {},
     "output_type": "execute_result"
    }
   ],
   "source": [
    "# Computes the on-sky position angle (East of North) between this SkyCoord and another.\n",
    "\n",
    "mars.position_angle(moon)"
   ]
  },
  {
   "cell_type": "code",
   "execution_count": 52,
   "metadata": {},
   "outputs": [
    {
     "data": {
      "text/latex": [
       "$155^\\circ28{}^\\prime18.4086{}^{\\prime\\prime}$"
      ],
      "text/plain": [
       "<Angle 155.47178016 deg>"
      ]
     },
     "execution_count": 52,
     "metadata": {},
     "output_type": "execute_result"
    }
   ],
   "source": [
    "# Computes on-sky separation between this coord and another\n",
    "\n",
    "mars.separation(moon)"
   ]
  },
  {
   "cell_type": "code",
   "execution_count": 54,
   "metadata": {},
   "outputs": [
    {
     "data": {
      "text/latex": [
       "$2.4649113 \\; \\mathrm{AU}$"
      ],
      "text/plain": [
       "<Distance 2.46491134 AU>"
      ]
     },
     "execution_count": 54,
     "metadata": {},
     "output_type": "execute_result"
    }
   ],
   "source": [
    "mars.separation_3d(moon)"
   ]
  },
  {
   "cell_type": "code",
   "execution_count": 57,
   "metadata": {},
   "outputs": [
    {
     "data": {
      "text/plain": [
       "<SkyOffsetGCRS Frame (obstime=J2000.000, obsgeoloc=(0., 0., 0.) m, obsgeovel=(0., 0., 0.) m / s, rotation=0.0 deg, origin=<GCRS Coordinate (obstime=1998-08-08 02:45:37, obsgeoloc=(-1658354.094097, -5107436.07486737, 3435229.07627812) m, obsgeovel=(372.43014908, -120.8917283, 0.05081326) m / s): (ra, dec, distance) in (deg, deg, AU)\n",
       "    (113.69061223, 22.54184605, 2.46265131)>)>"
      ]
     },
     "execution_count": 57,
     "metadata": {},
     "output_type": "execute_result"
    }
   ],
   "source": [
    "#Returns the sky offset frame with this SkyCoord at the origin.\n",
    "mars.skyoffset_frame()"
   ]
  },
  {
   "cell_type": "code",
   "execution_count": 61,
   "metadata": {},
   "outputs": [
    {
     "data": {
      "text/plain": [
       "'113.691 22.5418'"
      ]
     },
     "execution_count": 61,
     "metadata": {},
     "output_type": "execute_result"
    }
   ],
   "source": [
    "# Default \n",
    "mars.to_string('decimal')"
   ]
  },
  {
   "cell_type": "code",
   "execution_count": 59,
   "metadata": {},
   "outputs": [
    {
     "data": {
      "text/plain": [
       "'113d41m26.204s 22d32m30.6458s'"
      ]
     },
     "execution_count": 59,
     "metadata": {},
     "output_type": "execute_result"
    }
   ],
   "source": [
    "mars.to_string('dms')"
   ]
  },
  {
   "cell_type": "code",
   "execution_count": 60,
   "metadata": {},
   "outputs": [
    {
     "data": {
      "text/plain": [
       "'07h34m45.7469s +22d32m30.6458s'"
      ]
     },
     "execution_count": 60,
     "metadata": {},
     "output_type": "execute_result"
    }
   ],
   "source": [
    "mars.to_string('hmsdms')"
   ]
  },
  {
   "cell_type": "code",
   "execution_count": null,
   "metadata": {},
   "outputs": [],
   "source": []
  }
 ],
 "metadata": {
  "kernelspec": {
   "display_name": "Python 3",
   "language": "python",
   "name": "python3"
  },
  "language_info": {
   "codemirror_mode": {
    "name": "ipython",
    "version": 3
   },
   "file_extension": ".py",
   "mimetype": "text/x-python",
   "name": "python",
   "nbconvert_exporter": "python",
   "pygments_lexer": "ipython3",
   "version": "3.8.3"
  }
 },
 "nbformat": 4,
 "nbformat_minor": 4
}
